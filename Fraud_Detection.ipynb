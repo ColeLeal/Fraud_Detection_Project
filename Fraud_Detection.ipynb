{
  "nbformat": 4,
  "nbformat_minor": 0,
  "metadata": {
    "kernelspec": {
      "display_name": "Python 3",
      "language": "python",
      "name": "python3"
    },
    "language_info": {
      "codemirror_mode": {
        "name": "ipython",
        "version": 3
      },
      "file_extension": ".py",
      "mimetype": "text/x-python",
      "name": "python",
      "nbconvert_exporter": "python",
      "pygments_lexer": "ipython3",
      "version": "3.8.8"
    },
    "colab": {
      "name": "Fraud_Detection.ipynb",
      "provenance": [],
      "collapsed_sections": [],
      "toc_visible": true,
      "include_colab_link": true
    },
    "accelerator": "GPU"
  },
  "cells": [
    {
      "cell_type": "markdown",
      "metadata": {
        "id": "view-in-github",
        "colab_type": "text"
      },
      "source": [
        "<a href=\"https://colab.research.google.com/github/ColeLeal/Fraud_Detection_Project/blob/main/Fraud_Detection.ipynb\" target=\"_parent\"><img src=\"https://colab.research.google.com/assets/colab-badge.svg\" alt=\"Open In Colab\"/></a>"
      ]
    },
    {
      "cell_type": "markdown",
      "metadata": {
        "id": "3fyrG39UpbzC"
      },
      "source": [
        "## Fraud Detection Machine learning project"
      ]
    },
    {
      "cell_type": "markdown",
      "metadata": {
        "id": "1h6erhK5Wp_4"
      },
      "source": [
        "##### Summary\n",
        "Within this notebook I've sought to display a few data science skills on a binary classification data set involving<br> \n",
        "the detection of credit card fraud.\n",
        "\n",
        "*   I have displayed some quick EDA in the beginning so that we may grasp some understanding of the data set.\n",
        "*   Then I went into spot checking different types of models from ensemble to deep learning to see which models are viable in solving our problem.\n",
        "*   I then attempted to remedy the unbalanced nature of the data set via over and undersampling methods.\n",
        "*   Lastly I tuned the two best models from spot checking and came to the final/settled result.\n",
        "\n"
      ]
    },
    {
      "cell_type": "markdown",
      "metadata": {
        "id": "wgsZuHbDZyBo"
      },
      "source": [
        "##### Problem\n",
        "Using the data we wish to be able classify whether or not a paticular transaction is fraudulent."
      ]
    },
    {
      "cell_type": "code",
      "metadata": {
        "colab": {
          "base_uri": "https://localhost:8080/"
        },
        "id": "NDZtcamqpeOK",
        "outputId": "0495beaa-53e5-440e-b432-46fe319a9d6a"
      },
      "source": [
        "# Setting up google collab environment\n",
        "from google.colab import drive\n",
        "drive.mount('/content/drive')"
      ],
      "execution_count": 3,
      "outputs": [
        {
          "output_type": "stream",
          "text": [
            "Mounted at /content/drive\n"
          ],
          "name": "stdout"
        }
      ]
    },
    {
      "cell_type": "code",
      "metadata": {
        "id": "8pFUvm1tpbzD"
      },
      "source": [
        "import pandas as pd\n",
        "import seaborn as sns\n",
        "from matplotlib import pyplot as plt\n",
        "import numpy as np\n",
        "# random seed value\n",
        "seed = 42"
      ],
      "execution_count": 4,
      "outputs": []
    },
    {
      "cell_type": "markdown",
      "metadata": {
        "id": "rEU52YFxpbzE"
      },
      "source": [
        "### Simple EDA\n",
        " - Note that a class value of 1 indicates fraud and 0 otherwise\n",
        "    - Features <B>v1-v28</B> have been transformed via PCA to reduce feature dimenionality\n",
        "    - <B>Time</B> refers to the amount of time between each transaction\n",
        "    - <B>Amount</B> refers to Amount transfered per transaction"
      ]
    },
    {
      "cell_type": "code",
      "metadata": {
        "scrolled": true,
        "colab": {
          "base_uri": "https://localhost:8080/",
          "height": 721
        },
        "id": "s2-k84J1pbzE",
        "outputId": "29044b61-a9d4-4831-c234-34893276e0b9"
      },
      "source": [
        "# Import data as dataframe\n",
        "card_df = pd.read_csv('/content/drive/MyDrive/Colab Notebooks/ML/Resume/creditcard.csv')\n",
        "# Display top/bottom 10 data entries\n",
        "display(card_df.head(10))\n",
        "display(card_df.tail(10))"
      ],
      "execution_count": 5,
      "outputs": [
        {
          "output_type": "display_data",
          "data": {
            "text/html": [
              "<div>\n",
              "<style scoped>\n",
              "    .dataframe tbody tr th:only-of-type {\n",
              "        vertical-align: middle;\n",
              "    }\n",
              "\n",
              "    .dataframe tbody tr th {\n",
              "        vertical-align: top;\n",
              "    }\n",
              "\n",
              "    .dataframe thead th {\n",
              "        text-align: right;\n",
              "    }\n",
              "</style>\n",
              "<table border=\"1\" class=\"dataframe\">\n",
              "  <thead>\n",
              "    <tr style=\"text-align: right;\">\n",
              "      <th></th>\n",
              "      <th>Time</th>\n",
              "      <th>V1</th>\n",
              "      <th>V2</th>\n",
              "      <th>V3</th>\n",
              "      <th>V4</th>\n",
              "      <th>V5</th>\n",
              "      <th>V6</th>\n",
              "      <th>V7</th>\n",
              "      <th>V8</th>\n",
              "      <th>V9</th>\n",
              "      <th>V10</th>\n",
              "      <th>V11</th>\n",
              "      <th>V12</th>\n",
              "      <th>V13</th>\n",
              "      <th>V14</th>\n",
              "      <th>V15</th>\n",
              "      <th>V16</th>\n",
              "      <th>V17</th>\n",
              "      <th>V18</th>\n",
              "      <th>V19</th>\n",
              "      <th>V20</th>\n",
              "      <th>V21</th>\n",
              "      <th>V22</th>\n",
              "      <th>V23</th>\n",
              "      <th>V24</th>\n",
              "      <th>V25</th>\n",
              "      <th>V26</th>\n",
              "      <th>V27</th>\n",
              "      <th>V28</th>\n",
              "      <th>Amount</th>\n",
              "      <th>Class</th>\n",
              "    </tr>\n",
              "  </thead>\n",
              "  <tbody>\n",
              "    <tr>\n",
              "      <th>0</th>\n",
              "      <td>0.0</td>\n",
              "      <td>-1.359807</td>\n",
              "      <td>-0.072781</td>\n",
              "      <td>2.536347</td>\n",
              "      <td>1.378155</td>\n",
              "      <td>-0.338321</td>\n",
              "      <td>0.462388</td>\n",
              "      <td>0.239599</td>\n",
              "      <td>0.098698</td>\n",
              "      <td>0.363787</td>\n",
              "      <td>0.090794</td>\n",
              "      <td>-0.551600</td>\n",
              "      <td>-0.617801</td>\n",
              "      <td>-0.991390</td>\n",
              "      <td>-0.311169</td>\n",
              "      <td>1.468177</td>\n",
              "      <td>-0.470401</td>\n",
              "      <td>0.207971</td>\n",
              "      <td>0.025791</td>\n",
              "      <td>0.403993</td>\n",
              "      <td>0.251412</td>\n",
              "      <td>-0.018307</td>\n",
              "      <td>0.277838</td>\n",
              "      <td>-0.110474</td>\n",
              "      <td>0.066928</td>\n",
              "      <td>0.128539</td>\n",
              "      <td>-0.189115</td>\n",
              "      <td>0.133558</td>\n",
              "      <td>-0.021053</td>\n",
              "      <td>149.62</td>\n",
              "      <td>0</td>\n",
              "    </tr>\n",
              "    <tr>\n",
              "      <th>1</th>\n",
              "      <td>0.0</td>\n",
              "      <td>1.191857</td>\n",
              "      <td>0.266151</td>\n",
              "      <td>0.166480</td>\n",
              "      <td>0.448154</td>\n",
              "      <td>0.060018</td>\n",
              "      <td>-0.082361</td>\n",
              "      <td>-0.078803</td>\n",
              "      <td>0.085102</td>\n",
              "      <td>-0.255425</td>\n",
              "      <td>-0.166974</td>\n",
              "      <td>1.612727</td>\n",
              "      <td>1.065235</td>\n",
              "      <td>0.489095</td>\n",
              "      <td>-0.143772</td>\n",
              "      <td>0.635558</td>\n",
              "      <td>0.463917</td>\n",
              "      <td>-0.114805</td>\n",
              "      <td>-0.183361</td>\n",
              "      <td>-0.145783</td>\n",
              "      <td>-0.069083</td>\n",
              "      <td>-0.225775</td>\n",
              "      <td>-0.638672</td>\n",
              "      <td>0.101288</td>\n",
              "      <td>-0.339846</td>\n",
              "      <td>0.167170</td>\n",
              "      <td>0.125895</td>\n",
              "      <td>-0.008983</td>\n",
              "      <td>0.014724</td>\n",
              "      <td>2.69</td>\n",
              "      <td>0</td>\n",
              "    </tr>\n",
              "    <tr>\n",
              "      <th>2</th>\n",
              "      <td>1.0</td>\n",
              "      <td>-1.358354</td>\n",
              "      <td>-1.340163</td>\n",
              "      <td>1.773209</td>\n",
              "      <td>0.379780</td>\n",
              "      <td>-0.503198</td>\n",
              "      <td>1.800499</td>\n",
              "      <td>0.791461</td>\n",
              "      <td>0.247676</td>\n",
              "      <td>-1.514654</td>\n",
              "      <td>0.207643</td>\n",
              "      <td>0.624501</td>\n",
              "      <td>0.066084</td>\n",
              "      <td>0.717293</td>\n",
              "      <td>-0.165946</td>\n",
              "      <td>2.345865</td>\n",
              "      <td>-2.890083</td>\n",
              "      <td>1.109969</td>\n",
              "      <td>-0.121359</td>\n",
              "      <td>-2.261857</td>\n",
              "      <td>0.524980</td>\n",
              "      <td>0.247998</td>\n",
              "      <td>0.771679</td>\n",
              "      <td>0.909412</td>\n",
              "      <td>-0.689281</td>\n",
              "      <td>-0.327642</td>\n",
              "      <td>-0.139097</td>\n",
              "      <td>-0.055353</td>\n",
              "      <td>-0.059752</td>\n",
              "      <td>378.66</td>\n",
              "      <td>0</td>\n",
              "    </tr>\n",
              "    <tr>\n",
              "      <th>3</th>\n",
              "      <td>1.0</td>\n",
              "      <td>-0.966272</td>\n",
              "      <td>-0.185226</td>\n",
              "      <td>1.792993</td>\n",
              "      <td>-0.863291</td>\n",
              "      <td>-0.010309</td>\n",
              "      <td>1.247203</td>\n",
              "      <td>0.237609</td>\n",
              "      <td>0.377436</td>\n",
              "      <td>-1.387024</td>\n",
              "      <td>-0.054952</td>\n",
              "      <td>-0.226487</td>\n",
              "      <td>0.178228</td>\n",
              "      <td>0.507757</td>\n",
              "      <td>-0.287924</td>\n",
              "      <td>-0.631418</td>\n",
              "      <td>-1.059647</td>\n",
              "      <td>-0.684093</td>\n",
              "      <td>1.965775</td>\n",
              "      <td>-1.232622</td>\n",
              "      <td>-0.208038</td>\n",
              "      <td>-0.108300</td>\n",
              "      <td>0.005274</td>\n",
              "      <td>-0.190321</td>\n",
              "      <td>-1.175575</td>\n",
              "      <td>0.647376</td>\n",
              "      <td>-0.221929</td>\n",
              "      <td>0.062723</td>\n",
              "      <td>0.061458</td>\n",
              "      <td>123.50</td>\n",
              "      <td>0</td>\n",
              "    </tr>\n",
              "    <tr>\n",
              "      <th>4</th>\n",
              "      <td>2.0</td>\n",
              "      <td>-1.158233</td>\n",
              "      <td>0.877737</td>\n",
              "      <td>1.548718</td>\n",
              "      <td>0.403034</td>\n",
              "      <td>-0.407193</td>\n",
              "      <td>0.095921</td>\n",
              "      <td>0.592941</td>\n",
              "      <td>-0.270533</td>\n",
              "      <td>0.817739</td>\n",
              "      <td>0.753074</td>\n",
              "      <td>-0.822843</td>\n",
              "      <td>0.538196</td>\n",
              "      <td>1.345852</td>\n",
              "      <td>-1.119670</td>\n",
              "      <td>0.175121</td>\n",
              "      <td>-0.451449</td>\n",
              "      <td>-0.237033</td>\n",
              "      <td>-0.038195</td>\n",
              "      <td>0.803487</td>\n",
              "      <td>0.408542</td>\n",
              "      <td>-0.009431</td>\n",
              "      <td>0.798278</td>\n",
              "      <td>-0.137458</td>\n",
              "      <td>0.141267</td>\n",
              "      <td>-0.206010</td>\n",
              "      <td>0.502292</td>\n",
              "      <td>0.219422</td>\n",
              "      <td>0.215153</td>\n",
              "      <td>69.99</td>\n",
              "      <td>0</td>\n",
              "    </tr>\n",
              "    <tr>\n",
              "      <th>5</th>\n",
              "      <td>2.0</td>\n",
              "      <td>-0.425966</td>\n",
              "      <td>0.960523</td>\n",
              "      <td>1.141109</td>\n",
              "      <td>-0.168252</td>\n",
              "      <td>0.420987</td>\n",
              "      <td>-0.029728</td>\n",
              "      <td>0.476201</td>\n",
              "      <td>0.260314</td>\n",
              "      <td>-0.568671</td>\n",
              "      <td>-0.371407</td>\n",
              "      <td>1.341262</td>\n",
              "      <td>0.359894</td>\n",
              "      <td>-0.358091</td>\n",
              "      <td>-0.137134</td>\n",
              "      <td>0.517617</td>\n",
              "      <td>0.401726</td>\n",
              "      <td>-0.058133</td>\n",
              "      <td>0.068653</td>\n",
              "      <td>-0.033194</td>\n",
              "      <td>0.084968</td>\n",
              "      <td>-0.208254</td>\n",
              "      <td>-0.559825</td>\n",
              "      <td>-0.026398</td>\n",
              "      <td>-0.371427</td>\n",
              "      <td>-0.232794</td>\n",
              "      <td>0.105915</td>\n",
              "      <td>0.253844</td>\n",
              "      <td>0.081080</td>\n",
              "      <td>3.67</td>\n",
              "      <td>0</td>\n",
              "    </tr>\n",
              "    <tr>\n",
              "      <th>6</th>\n",
              "      <td>4.0</td>\n",
              "      <td>1.229658</td>\n",
              "      <td>0.141004</td>\n",
              "      <td>0.045371</td>\n",
              "      <td>1.202613</td>\n",
              "      <td>0.191881</td>\n",
              "      <td>0.272708</td>\n",
              "      <td>-0.005159</td>\n",
              "      <td>0.081213</td>\n",
              "      <td>0.464960</td>\n",
              "      <td>-0.099254</td>\n",
              "      <td>-1.416907</td>\n",
              "      <td>-0.153826</td>\n",
              "      <td>-0.751063</td>\n",
              "      <td>0.167372</td>\n",
              "      <td>0.050144</td>\n",
              "      <td>-0.443587</td>\n",
              "      <td>0.002821</td>\n",
              "      <td>-0.611987</td>\n",
              "      <td>-0.045575</td>\n",
              "      <td>-0.219633</td>\n",
              "      <td>-0.167716</td>\n",
              "      <td>-0.270710</td>\n",
              "      <td>-0.154104</td>\n",
              "      <td>-0.780055</td>\n",
              "      <td>0.750137</td>\n",
              "      <td>-0.257237</td>\n",
              "      <td>0.034507</td>\n",
              "      <td>0.005168</td>\n",
              "      <td>4.99</td>\n",
              "      <td>0</td>\n",
              "    </tr>\n",
              "    <tr>\n",
              "      <th>7</th>\n",
              "      <td>7.0</td>\n",
              "      <td>-0.644269</td>\n",
              "      <td>1.417964</td>\n",
              "      <td>1.074380</td>\n",
              "      <td>-0.492199</td>\n",
              "      <td>0.948934</td>\n",
              "      <td>0.428118</td>\n",
              "      <td>1.120631</td>\n",
              "      <td>-3.807864</td>\n",
              "      <td>0.615375</td>\n",
              "      <td>1.249376</td>\n",
              "      <td>-0.619468</td>\n",
              "      <td>0.291474</td>\n",
              "      <td>1.757964</td>\n",
              "      <td>-1.323865</td>\n",
              "      <td>0.686133</td>\n",
              "      <td>-0.076127</td>\n",
              "      <td>-1.222127</td>\n",
              "      <td>-0.358222</td>\n",
              "      <td>0.324505</td>\n",
              "      <td>-0.156742</td>\n",
              "      <td>1.943465</td>\n",
              "      <td>-1.015455</td>\n",
              "      <td>0.057504</td>\n",
              "      <td>-0.649709</td>\n",
              "      <td>-0.415267</td>\n",
              "      <td>-0.051634</td>\n",
              "      <td>-1.206921</td>\n",
              "      <td>-1.085339</td>\n",
              "      <td>40.80</td>\n",
              "      <td>0</td>\n",
              "    </tr>\n",
              "    <tr>\n",
              "      <th>8</th>\n",
              "      <td>7.0</td>\n",
              "      <td>-0.894286</td>\n",
              "      <td>0.286157</td>\n",
              "      <td>-0.113192</td>\n",
              "      <td>-0.271526</td>\n",
              "      <td>2.669599</td>\n",
              "      <td>3.721818</td>\n",
              "      <td>0.370145</td>\n",
              "      <td>0.851084</td>\n",
              "      <td>-0.392048</td>\n",
              "      <td>-0.410430</td>\n",
              "      <td>-0.705117</td>\n",
              "      <td>-0.110452</td>\n",
              "      <td>-0.286254</td>\n",
              "      <td>0.074355</td>\n",
              "      <td>-0.328783</td>\n",
              "      <td>-0.210077</td>\n",
              "      <td>-0.499768</td>\n",
              "      <td>0.118765</td>\n",
              "      <td>0.570328</td>\n",
              "      <td>0.052736</td>\n",
              "      <td>-0.073425</td>\n",
              "      <td>-0.268092</td>\n",
              "      <td>-0.204233</td>\n",
              "      <td>1.011592</td>\n",
              "      <td>0.373205</td>\n",
              "      <td>-0.384157</td>\n",
              "      <td>0.011747</td>\n",
              "      <td>0.142404</td>\n",
              "      <td>93.20</td>\n",
              "      <td>0</td>\n",
              "    </tr>\n",
              "    <tr>\n",
              "      <th>9</th>\n",
              "      <td>9.0</td>\n",
              "      <td>-0.338262</td>\n",
              "      <td>1.119593</td>\n",
              "      <td>1.044367</td>\n",
              "      <td>-0.222187</td>\n",
              "      <td>0.499361</td>\n",
              "      <td>-0.246761</td>\n",
              "      <td>0.651583</td>\n",
              "      <td>0.069539</td>\n",
              "      <td>-0.736727</td>\n",
              "      <td>-0.366846</td>\n",
              "      <td>1.017614</td>\n",
              "      <td>0.836390</td>\n",
              "      <td>1.006844</td>\n",
              "      <td>-0.443523</td>\n",
              "      <td>0.150219</td>\n",
              "      <td>0.739453</td>\n",
              "      <td>-0.540980</td>\n",
              "      <td>0.476677</td>\n",
              "      <td>0.451773</td>\n",
              "      <td>0.203711</td>\n",
              "      <td>-0.246914</td>\n",
              "      <td>-0.633753</td>\n",
              "      <td>-0.120794</td>\n",
              "      <td>-0.385050</td>\n",
              "      <td>-0.069733</td>\n",
              "      <td>0.094199</td>\n",
              "      <td>0.246219</td>\n",
              "      <td>0.083076</td>\n",
              "      <td>3.68</td>\n",
              "      <td>0</td>\n",
              "    </tr>\n",
              "  </tbody>\n",
              "</table>\n",
              "</div>"
            ],
            "text/plain": [
              "   Time        V1        V2        V3  ...       V27       V28  Amount  Class\n",
              "0   0.0 -1.359807 -0.072781  2.536347  ...  0.133558 -0.021053  149.62      0\n",
              "1   0.0  1.191857  0.266151  0.166480  ... -0.008983  0.014724    2.69      0\n",
              "2   1.0 -1.358354 -1.340163  1.773209  ... -0.055353 -0.059752  378.66      0\n",
              "3   1.0 -0.966272 -0.185226  1.792993  ...  0.062723  0.061458  123.50      0\n",
              "4   2.0 -1.158233  0.877737  1.548718  ...  0.219422  0.215153   69.99      0\n",
              "5   2.0 -0.425966  0.960523  1.141109  ...  0.253844  0.081080    3.67      0\n",
              "6   4.0  1.229658  0.141004  0.045371  ...  0.034507  0.005168    4.99      0\n",
              "7   7.0 -0.644269  1.417964  1.074380  ... -1.206921 -1.085339   40.80      0\n",
              "8   7.0 -0.894286  0.286157 -0.113192  ...  0.011747  0.142404   93.20      0\n",
              "9   9.0 -0.338262  1.119593  1.044367  ...  0.246219  0.083076    3.68      0\n",
              "\n",
              "[10 rows x 31 columns]"
            ]
          },
          "metadata": {
            "tags": []
          }
        },
        {
          "output_type": "display_data",
          "data": {
            "text/html": [
              "<div>\n",
              "<style scoped>\n",
              "    .dataframe tbody tr th:only-of-type {\n",
              "        vertical-align: middle;\n",
              "    }\n",
              "\n",
              "    .dataframe tbody tr th {\n",
              "        vertical-align: top;\n",
              "    }\n",
              "\n",
              "    .dataframe thead th {\n",
              "        text-align: right;\n",
              "    }\n",
              "</style>\n",
              "<table border=\"1\" class=\"dataframe\">\n",
              "  <thead>\n",
              "    <tr style=\"text-align: right;\">\n",
              "      <th></th>\n",
              "      <th>Time</th>\n",
              "      <th>V1</th>\n",
              "      <th>V2</th>\n",
              "      <th>V3</th>\n",
              "      <th>V4</th>\n",
              "      <th>V5</th>\n",
              "      <th>V6</th>\n",
              "      <th>V7</th>\n",
              "      <th>V8</th>\n",
              "      <th>V9</th>\n",
              "      <th>V10</th>\n",
              "      <th>V11</th>\n",
              "      <th>V12</th>\n",
              "      <th>V13</th>\n",
              "      <th>V14</th>\n",
              "      <th>V15</th>\n",
              "      <th>V16</th>\n",
              "      <th>V17</th>\n",
              "      <th>V18</th>\n",
              "      <th>V19</th>\n",
              "      <th>V20</th>\n",
              "      <th>V21</th>\n",
              "      <th>V22</th>\n",
              "      <th>V23</th>\n",
              "      <th>V24</th>\n",
              "      <th>V25</th>\n",
              "      <th>V26</th>\n",
              "      <th>V27</th>\n",
              "      <th>V28</th>\n",
              "      <th>Amount</th>\n",
              "      <th>Class</th>\n",
              "    </tr>\n",
              "  </thead>\n",
              "  <tbody>\n",
              "    <tr>\n",
              "      <th>284797</th>\n",
              "      <td>172782.0</td>\n",
              "      <td>-0.241923</td>\n",
              "      <td>0.712247</td>\n",
              "      <td>0.399806</td>\n",
              "      <td>-0.463406</td>\n",
              "      <td>0.244531</td>\n",
              "      <td>-1.343668</td>\n",
              "      <td>0.929369</td>\n",
              "      <td>-0.206210</td>\n",
              "      <td>0.106234</td>\n",
              "      <td>-0.284708</td>\n",
              "      <td>-0.612982</td>\n",
              "      <td>-0.066655</td>\n",
              "      <td>-0.732987</td>\n",
              "      <td>0.237948</td>\n",
              "      <td>-0.293959</td>\n",
              "      <td>-0.245496</td>\n",
              "      <td>-0.174846</td>\n",
              "      <td>-0.891169</td>\n",
              "      <td>-0.290491</td>\n",
              "      <td>-0.139512</td>\n",
              "      <td>-0.228876</td>\n",
              "      <td>-0.514376</td>\n",
              "      <td>0.279598</td>\n",
              "      <td>0.371441</td>\n",
              "      <td>-0.559238</td>\n",
              "      <td>0.113144</td>\n",
              "      <td>0.131507</td>\n",
              "      <td>0.081265</td>\n",
              "      <td>5.49</td>\n",
              "      <td>0</td>\n",
              "    </tr>\n",
              "    <tr>\n",
              "      <th>284798</th>\n",
              "      <td>172782.0</td>\n",
              "      <td>0.219529</td>\n",
              "      <td>0.881246</td>\n",
              "      <td>-0.635891</td>\n",
              "      <td>0.960928</td>\n",
              "      <td>-0.152971</td>\n",
              "      <td>-1.014307</td>\n",
              "      <td>0.427126</td>\n",
              "      <td>0.121340</td>\n",
              "      <td>-0.285670</td>\n",
              "      <td>-0.111640</td>\n",
              "      <td>-1.109232</td>\n",
              "      <td>-0.453235</td>\n",
              "      <td>-1.046946</td>\n",
              "      <td>1.122674</td>\n",
              "      <td>1.243518</td>\n",
              "      <td>-1.431897</td>\n",
              "      <td>0.939328</td>\n",
              "      <td>-0.002373</td>\n",
              "      <td>2.894952</td>\n",
              "      <td>0.006666</td>\n",
              "      <td>0.099936</td>\n",
              "      <td>0.337120</td>\n",
              "      <td>0.251791</td>\n",
              "      <td>0.057688</td>\n",
              "      <td>-1.508368</td>\n",
              "      <td>0.144023</td>\n",
              "      <td>0.181205</td>\n",
              "      <td>0.215243</td>\n",
              "      <td>24.05</td>\n",
              "      <td>0</td>\n",
              "    </tr>\n",
              "    <tr>\n",
              "      <th>284799</th>\n",
              "      <td>172783.0</td>\n",
              "      <td>-1.775135</td>\n",
              "      <td>-0.004235</td>\n",
              "      <td>1.189786</td>\n",
              "      <td>0.331096</td>\n",
              "      <td>1.196063</td>\n",
              "      <td>5.519980</td>\n",
              "      <td>-1.518185</td>\n",
              "      <td>2.080825</td>\n",
              "      <td>1.159498</td>\n",
              "      <td>-0.594242</td>\n",
              "      <td>-1.264072</td>\n",
              "      <td>0.453596</td>\n",
              "      <td>-0.243142</td>\n",
              "      <td>-0.858719</td>\n",
              "      <td>-0.766554</td>\n",
              "      <td>-0.644646</td>\n",
              "      <td>0.447184</td>\n",
              "      <td>0.388721</td>\n",
              "      <td>0.792135</td>\n",
              "      <td>0.348176</td>\n",
              "      <td>0.103302</td>\n",
              "      <td>0.654850</td>\n",
              "      <td>-0.348929</td>\n",
              "      <td>0.745323</td>\n",
              "      <td>0.704545</td>\n",
              "      <td>-0.127579</td>\n",
              "      <td>0.454379</td>\n",
              "      <td>0.130308</td>\n",
              "      <td>79.99</td>\n",
              "      <td>0</td>\n",
              "    </tr>\n",
              "    <tr>\n",
              "      <th>284800</th>\n",
              "      <td>172784.0</td>\n",
              "      <td>2.039560</td>\n",
              "      <td>-0.175233</td>\n",
              "      <td>-1.196825</td>\n",
              "      <td>0.234580</td>\n",
              "      <td>-0.008713</td>\n",
              "      <td>-0.726571</td>\n",
              "      <td>0.017050</td>\n",
              "      <td>-0.118228</td>\n",
              "      <td>0.435402</td>\n",
              "      <td>0.267772</td>\n",
              "      <td>0.523316</td>\n",
              "      <td>0.559047</td>\n",
              "      <td>-0.834660</td>\n",
              "      <td>0.626211</td>\n",
              "      <td>-0.541494</td>\n",
              "      <td>0.225361</td>\n",
              "      <td>-0.605252</td>\n",
              "      <td>-0.163049</td>\n",
              "      <td>0.561695</td>\n",
              "      <td>-0.256922</td>\n",
              "      <td>-0.268048</td>\n",
              "      <td>-0.717211</td>\n",
              "      <td>0.297930</td>\n",
              "      <td>-0.359769</td>\n",
              "      <td>-0.315610</td>\n",
              "      <td>0.201114</td>\n",
              "      <td>-0.080826</td>\n",
              "      <td>-0.075071</td>\n",
              "      <td>2.68</td>\n",
              "      <td>0</td>\n",
              "    </tr>\n",
              "    <tr>\n",
              "      <th>284801</th>\n",
              "      <td>172785.0</td>\n",
              "      <td>0.120316</td>\n",
              "      <td>0.931005</td>\n",
              "      <td>-0.546012</td>\n",
              "      <td>-0.745097</td>\n",
              "      <td>1.130314</td>\n",
              "      <td>-0.235973</td>\n",
              "      <td>0.812722</td>\n",
              "      <td>0.115093</td>\n",
              "      <td>-0.204064</td>\n",
              "      <td>-0.657422</td>\n",
              "      <td>0.644837</td>\n",
              "      <td>0.190916</td>\n",
              "      <td>-0.546329</td>\n",
              "      <td>-0.731707</td>\n",
              "      <td>-0.808036</td>\n",
              "      <td>0.599628</td>\n",
              "      <td>0.070441</td>\n",
              "      <td>0.373110</td>\n",
              "      <td>0.128904</td>\n",
              "      <td>0.000676</td>\n",
              "      <td>-0.314205</td>\n",
              "      <td>-0.808520</td>\n",
              "      <td>0.050343</td>\n",
              "      <td>0.102800</td>\n",
              "      <td>-0.435870</td>\n",
              "      <td>0.124079</td>\n",
              "      <td>0.217940</td>\n",
              "      <td>0.068803</td>\n",
              "      <td>2.69</td>\n",
              "      <td>0</td>\n",
              "    </tr>\n",
              "    <tr>\n",
              "      <th>284802</th>\n",
              "      <td>172786.0</td>\n",
              "      <td>-11.881118</td>\n",
              "      <td>10.071785</td>\n",
              "      <td>-9.834783</td>\n",
              "      <td>-2.066656</td>\n",
              "      <td>-5.364473</td>\n",
              "      <td>-2.606837</td>\n",
              "      <td>-4.918215</td>\n",
              "      <td>7.305334</td>\n",
              "      <td>1.914428</td>\n",
              "      <td>4.356170</td>\n",
              "      <td>-1.593105</td>\n",
              "      <td>2.711941</td>\n",
              "      <td>-0.689256</td>\n",
              "      <td>4.626942</td>\n",
              "      <td>-0.924459</td>\n",
              "      <td>1.107641</td>\n",
              "      <td>1.991691</td>\n",
              "      <td>0.510632</td>\n",
              "      <td>-0.682920</td>\n",
              "      <td>1.475829</td>\n",
              "      <td>0.213454</td>\n",
              "      <td>0.111864</td>\n",
              "      <td>1.014480</td>\n",
              "      <td>-0.509348</td>\n",
              "      <td>1.436807</td>\n",
              "      <td>0.250034</td>\n",
              "      <td>0.943651</td>\n",
              "      <td>0.823731</td>\n",
              "      <td>0.77</td>\n",
              "      <td>0</td>\n",
              "    </tr>\n",
              "    <tr>\n",
              "      <th>284803</th>\n",
              "      <td>172787.0</td>\n",
              "      <td>-0.732789</td>\n",
              "      <td>-0.055080</td>\n",
              "      <td>2.035030</td>\n",
              "      <td>-0.738589</td>\n",
              "      <td>0.868229</td>\n",
              "      <td>1.058415</td>\n",
              "      <td>0.024330</td>\n",
              "      <td>0.294869</td>\n",
              "      <td>0.584800</td>\n",
              "      <td>-0.975926</td>\n",
              "      <td>-0.150189</td>\n",
              "      <td>0.915802</td>\n",
              "      <td>1.214756</td>\n",
              "      <td>-0.675143</td>\n",
              "      <td>1.164931</td>\n",
              "      <td>-0.711757</td>\n",
              "      <td>-0.025693</td>\n",
              "      <td>-1.221179</td>\n",
              "      <td>-1.545556</td>\n",
              "      <td>0.059616</td>\n",
              "      <td>0.214205</td>\n",
              "      <td>0.924384</td>\n",
              "      <td>0.012463</td>\n",
              "      <td>-1.016226</td>\n",
              "      <td>-0.606624</td>\n",
              "      <td>-0.395255</td>\n",
              "      <td>0.068472</td>\n",
              "      <td>-0.053527</td>\n",
              "      <td>24.79</td>\n",
              "      <td>0</td>\n",
              "    </tr>\n",
              "    <tr>\n",
              "      <th>284804</th>\n",
              "      <td>172788.0</td>\n",
              "      <td>1.919565</td>\n",
              "      <td>-0.301254</td>\n",
              "      <td>-3.249640</td>\n",
              "      <td>-0.557828</td>\n",
              "      <td>2.630515</td>\n",
              "      <td>3.031260</td>\n",
              "      <td>-0.296827</td>\n",
              "      <td>0.708417</td>\n",
              "      <td>0.432454</td>\n",
              "      <td>-0.484782</td>\n",
              "      <td>0.411614</td>\n",
              "      <td>0.063119</td>\n",
              "      <td>-0.183699</td>\n",
              "      <td>-0.510602</td>\n",
              "      <td>1.329284</td>\n",
              "      <td>0.140716</td>\n",
              "      <td>0.313502</td>\n",
              "      <td>0.395652</td>\n",
              "      <td>-0.577252</td>\n",
              "      <td>0.001396</td>\n",
              "      <td>0.232045</td>\n",
              "      <td>0.578229</td>\n",
              "      <td>-0.037501</td>\n",
              "      <td>0.640134</td>\n",
              "      <td>0.265745</td>\n",
              "      <td>-0.087371</td>\n",
              "      <td>0.004455</td>\n",
              "      <td>-0.026561</td>\n",
              "      <td>67.88</td>\n",
              "      <td>0</td>\n",
              "    </tr>\n",
              "    <tr>\n",
              "      <th>284805</th>\n",
              "      <td>172788.0</td>\n",
              "      <td>-0.240440</td>\n",
              "      <td>0.530483</td>\n",
              "      <td>0.702510</td>\n",
              "      <td>0.689799</td>\n",
              "      <td>-0.377961</td>\n",
              "      <td>0.623708</td>\n",
              "      <td>-0.686180</td>\n",
              "      <td>0.679145</td>\n",
              "      <td>0.392087</td>\n",
              "      <td>-0.399126</td>\n",
              "      <td>-1.933849</td>\n",
              "      <td>-0.962886</td>\n",
              "      <td>-1.042082</td>\n",
              "      <td>0.449624</td>\n",
              "      <td>1.962563</td>\n",
              "      <td>-0.608577</td>\n",
              "      <td>0.509928</td>\n",
              "      <td>1.113981</td>\n",
              "      <td>2.897849</td>\n",
              "      <td>0.127434</td>\n",
              "      <td>0.265245</td>\n",
              "      <td>0.800049</td>\n",
              "      <td>-0.163298</td>\n",
              "      <td>0.123205</td>\n",
              "      <td>-0.569159</td>\n",
              "      <td>0.546668</td>\n",
              "      <td>0.108821</td>\n",
              "      <td>0.104533</td>\n",
              "      <td>10.00</td>\n",
              "      <td>0</td>\n",
              "    </tr>\n",
              "    <tr>\n",
              "      <th>284806</th>\n",
              "      <td>172792.0</td>\n",
              "      <td>-0.533413</td>\n",
              "      <td>-0.189733</td>\n",
              "      <td>0.703337</td>\n",
              "      <td>-0.506271</td>\n",
              "      <td>-0.012546</td>\n",
              "      <td>-0.649617</td>\n",
              "      <td>1.577006</td>\n",
              "      <td>-0.414650</td>\n",
              "      <td>0.486180</td>\n",
              "      <td>-0.915427</td>\n",
              "      <td>-1.040458</td>\n",
              "      <td>-0.031513</td>\n",
              "      <td>-0.188093</td>\n",
              "      <td>-0.084316</td>\n",
              "      <td>0.041333</td>\n",
              "      <td>-0.302620</td>\n",
              "      <td>-0.660377</td>\n",
              "      <td>0.167430</td>\n",
              "      <td>-0.256117</td>\n",
              "      <td>0.382948</td>\n",
              "      <td>0.261057</td>\n",
              "      <td>0.643078</td>\n",
              "      <td>0.376777</td>\n",
              "      <td>0.008797</td>\n",
              "      <td>-0.473649</td>\n",
              "      <td>-0.818267</td>\n",
              "      <td>-0.002415</td>\n",
              "      <td>0.013649</td>\n",
              "      <td>217.00</td>\n",
              "      <td>0</td>\n",
              "    </tr>\n",
              "  </tbody>\n",
              "</table>\n",
              "</div>"
            ],
            "text/plain": [
              "            Time         V1         V2  ...       V28  Amount  Class\n",
              "284797  172782.0  -0.241923   0.712247  ...  0.081265    5.49      0\n",
              "284798  172782.0   0.219529   0.881246  ...  0.215243   24.05      0\n",
              "284799  172783.0  -1.775135  -0.004235  ...  0.130308   79.99      0\n",
              "284800  172784.0   2.039560  -0.175233  ... -0.075071    2.68      0\n",
              "284801  172785.0   0.120316   0.931005  ...  0.068803    2.69      0\n",
              "284802  172786.0 -11.881118  10.071785  ...  0.823731    0.77      0\n",
              "284803  172787.0  -0.732789  -0.055080  ... -0.053527   24.79      0\n",
              "284804  172788.0   1.919565  -0.301254  ... -0.026561   67.88      0\n",
              "284805  172788.0  -0.240440   0.530483  ...  0.104533   10.00      0\n",
              "284806  172792.0  -0.533413  -0.189733  ...  0.013649  217.00      0\n",
              "\n",
              "[10 rows x 31 columns]"
            ]
          },
          "metadata": {
            "tags": []
          }
        }
      ]
    },
    {
      "cell_type": "code",
      "metadata": {
        "colab": {
          "base_uri": "https://localhost:8080/"
        },
        "id": "XGQUw5hZpbzF",
        "outputId": "df842879-c2bd-4d1f-d547-7bea7ff91717"
      },
      "source": [
        "# Check for duplicate entries\n",
        "print(\"Number of duplicate: {}\".format(card_df.duplicated().sum()))\n",
        "# Drop duplicated entries\n",
        "card_df.drop_duplicates(inplace=True)"
      ],
      "execution_count": 6,
      "outputs": [
        {
          "output_type": "stream",
          "text": [
            "Number of duplicate: 1081\n"
          ],
          "name": "stdout"
        }
      ]
    },
    {
      "cell_type": "markdown",
      "metadata": {
        "id": "SMpiKDNapbzG"
      },
      "source": [
        "Check how balanced the data is:"
      ]
    },
    {
      "cell_type": "code",
      "metadata": {
        "colab": {
          "base_uri": "https://localhost:8080/",
          "height": 222
        },
        "id": "9rXjZm2MpbzG",
        "outputId": "d949fc97-b1a0-48ee-b531-cb334432384a"
      },
      "source": [
        "# Show shape of data:\n",
        "# We can note the 284,807 number of entries\n",
        "print(card_df.shape)\n",
        "\n",
        "#Show the percentage of each class within the data\n",
        "#Quite obviously the data is very imbalanced\n",
        "display(pd.DataFrame(list(((card_df.Class.value_counts()/card_df.shape[0])*100)),\n",
        "                           columns=['Class Count Percentages']))\n",
        "display(pd.DataFrame(list(((card_df.Class.value_counts()))),\n",
        "                           columns=['Class Counts']))"
      ],
      "execution_count": 7,
      "outputs": [
        {
          "output_type": "stream",
          "text": [
            "(283726, 31)\n"
          ],
          "name": "stdout"
        },
        {
          "output_type": "display_data",
          "data": {
            "text/html": [
              "<div>\n",
              "<style scoped>\n",
              "    .dataframe tbody tr th:only-of-type {\n",
              "        vertical-align: middle;\n",
              "    }\n",
              "\n",
              "    .dataframe tbody tr th {\n",
              "        vertical-align: top;\n",
              "    }\n",
              "\n",
              "    .dataframe thead th {\n",
              "        text-align: right;\n",
              "    }\n",
              "</style>\n",
              "<table border=\"1\" class=\"dataframe\">\n",
              "  <thead>\n",
              "    <tr style=\"text-align: right;\">\n",
              "      <th></th>\n",
              "      <th>Class Count Percentages</th>\n",
              "    </tr>\n",
              "  </thead>\n",
              "  <tbody>\n",
              "    <tr>\n",
              "      <th>0</th>\n",
              "      <td>99.83329</td>\n",
              "    </tr>\n",
              "    <tr>\n",
              "      <th>1</th>\n",
              "      <td>0.16671</td>\n",
              "    </tr>\n",
              "  </tbody>\n",
              "</table>\n",
              "</div>"
            ],
            "text/plain": [
              "   Class Count Percentages\n",
              "0                 99.83329\n",
              "1                  0.16671"
            ]
          },
          "metadata": {
            "tags": []
          }
        },
        {
          "output_type": "display_data",
          "data": {
            "text/html": [
              "<div>\n",
              "<style scoped>\n",
              "    .dataframe tbody tr th:only-of-type {\n",
              "        vertical-align: middle;\n",
              "    }\n",
              "\n",
              "    .dataframe tbody tr th {\n",
              "        vertical-align: top;\n",
              "    }\n",
              "\n",
              "    .dataframe thead th {\n",
              "        text-align: right;\n",
              "    }\n",
              "</style>\n",
              "<table border=\"1\" class=\"dataframe\">\n",
              "  <thead>\n",
              "    <tr style=\"text-align: right;\">\n",
              "      <th></th>\n",
              "      <th>Class Counts</th>\n",
              "    </tr>\n",
              "  </thead>\n",
              "  <tbody>\n",
              "    <tr>\n",
              "      <th>0</th>\n",
              "      <td>283253</td>\n",
              "    </tr>\n",
              "    <tr>\n",
              "      <th>1</th>\n",
              "      <td>473</td>\n",
              "    </tr>\n",
              "  </tbody>\n",
              "</table>\n",
              "</div>"
            ],
            "text/plain": [
              "   Class Counts\n",
              "0        283253\n",
              "1           473"
            ]
          },
          "metadata": {
            "tags": []
          }
        }
      ]
    },
    {
      "cell_type": "code",
      "metadata": {
        "colab": {
          "base_uri": "https://localhost:8080/",
          "height": 297
        },
        "id": "CbXUXLMYpbzG",
        "outputId": "53d1173a-dbc3-4e43-e31e-0255165c040e"
      },
      "source": [
        "# Create new dataframe with the features we can qualitatively understand\n",
        "new_card_df = card_df[['Class','Time','Amount']].copy()\n",
        "\n",
        "# Describe data\n",
        "# Note that there are zero values in both amount and time \n",
        "new_card_df.describe()"
      ],
      "execution_count": null,
      "outputs": [
        {
          "output_type": "execute_result",
          "data": {
            "text/html": [
              "<div>\n",
              "<style scoped>\n",
              "    .dataframe tbody tr th:only-of-type {\n",
              "        vertical-align: middle;\n",
              "    }\n",
              "\n",
              "    .dataframe tbody tr th {\n",
              "        vertical-align: top;\n",
              "    }\n",
              "\n",
              "    .dataframe thead th {\n",
              "        text-align: right;\n",
              "    }\n",
              "</style>\n",
              "<table border=\"1\" class=\"dataframe\">\n",
              "  <thead>\n",
              "    <tr style=\"text-align: right;\">\n",
              "      <th></th>\n",
              "      <th>Class</th>\n",
              "      <th>Time</th>\n",
              "      <th>Amount</th>\n",
              "    </tr>\n",
              "  </thead>\n",
              "  <tbody>\n",
              "    <tr>\n",
              "      <th>count</th>\n",
              "      <td>283726.000000</td>\n",
              "      <td>283726.000000</td>\n",
              "      <td>283726.000000</td>\n",
              "    </tr>\n",
              "    <tr>\n",
              "      <th>mean</th>\n",
              "      <td>0.001667</td>\n",
              "      <td>94811.077600</td>\n",
              "      <td>88.472687</td>\n",
              "    </tr>\n",
              "    <tr>\n",
              "      <th>std</th>\n",
              "      <td>0.040796</td>\n",
              "      <td>47481.047891</td>\n",
              "      <td>250.399437</td>\n",
              "    </tr>\n",
              "    <tr>\n",
              "      <th>min</th>\n",
              "      <td>0.000000</td>\n",
              "      <td>0.000000</td>\n",
              "      <td>0.000000</td>\n",
              "    </tr>\n",
              "    <tr>\n",
              "      <th>25%</th>\n",
              "      <td>0.000000</td>\n",
              "      <td>54204.750000</td>\n",
              "      <td>5.600000</td>\n",
              "    </tr>\n",
              "    <tr>\n",
              "      <th>50%</th>\n",
              "      <td>0.000000</td>\n",
              "      <td>84692.500000</td>\n",
              "      <td>22.000000</td>\n",
              "    </tr>\n",
              "    <tr>\n",
              "      <th>75%</th>\n",
              "      <td>0.000000</td>\n",
              "      <td>139298.000000</td>\n",
              "      <td>77.510000</td>\n",
              "    </tr>\n",
              "    <tr>\n",
              "      <th>max</th>\n",
              "      <td>1.000000</td>\n",
              "      <td>172792.000000</td>\n",
              "      <td>25691.160000</td>\n",
              "    </tr>\n",
              "  </tbody>\n",
              "</table>\n",
              "</div>"
            ],
            "text/plain": [
              "               Class           Time         Amount\n",
              "count  283726.000000  283726.000000  283726.000000\n",
              "mean        0.001667   94811.077600      88.472687\n",
              "std         0.040796   47481.047891     250.399437\n",
              "min         0.000000       0.000000       0.000000\n",
              "25%         0.000000   54204.750000       5.600000\n",
              "50%         0.000000   84692.500000      22.000000\n",
              "75%         0.000000  139298.000000      77.510000\n",
              "max         1.000000  172792.000000   25691.160000"
            ]
          },
          "metadata": {
            "tags": []
          },
          "execution_count": 19
        }
      ]
    },
    {
      "cell_type": "code",
      "metadata": {
        "colab": {
          "base_uri": "https://localhost:8080/",
          "height": 1000
        },
        "id": "_4Kn0pQdpbzG",
        "outputId": "1f256eb9-6b71-4e00-ccec-de9cd8097616"
      },
      "source": [
        "# We can note that there is no null data\n",
        "display(card_df.info())\n",
        "# We can check the unique values just to see if theres anything odd\n",
        "display(card_df.nunique())"
      ],
      "execution_count": null,
      "outputs": [
        {
          "output_type": "stream",
          "text": [
            "<class 'pandas.core.frame.DataFrame'>\n",
            "Int64Index: 283726 entries, 0 to 284806\n",
            "Data columns (total 31 columns):\n",
            " #   Column  Non-Null Count   Dtype  \n",
            "---  ------  --------------   -----  \n",
            " 0   Time    283726 non-null  float64\n",
            " 1   V1      283726 non-null  float64\n",
            " 2   V2      283726 non-null  float64\n",
            " 3   V3      283726 non-null  float64\n",
            " 4   V4      283726 non-null  float64\n",
            " 5   V5      283726 non-null  float64\n",
            " 6   V6      283726 non-null  float64\n",
            " 7   V7      283726 non-null  float64\n",
            " 8   V8      283726 non-null  float64\n",
            " 9   V9      283726 non-null  float64\n",
            " 10  V10     283726 non-null  float64\n",
            " 11  V11     283726 non-null  float64\n",
            " 12  V12     283726 non-null  float64\n",
            " 13  V13     283726 non-null  float64\n",
            " 14  V14     283726 non-null  float64\n",
            " 15  V15     283726 non-null  float64\n",
            " 16  V16     283726 non-null  float64\n",
            " 17  V17     283726 non-null  float64\n",
            " 18  V18     283726 non-null  float64\n",
            " 19  V19     283726 non-null  float64\n",
            " 20  V20     283726 non-null  float64\n",
            " 21  V21     283726 non-null  float64\n",
            " 22  V22     283726 non-null  float64\n",
            " 23  V23     283726 non-null  float64\n",
            " 24  V24     283726 non-null  float64\n",
            " 25  V25     283726 non-null  float64\n",
            " 26  V26     283726 non-null  float64\n",
            " 27  V27     283726 non-null  float64\n",
            " 28  V28     283726 non-null  float64\n",
            " 29  Amount  283726 non-null  float64\n",
            " 30  Class   283726 non-null  int64  \n",
            "dtypes: float64(30), int64(1)\n",
            "memory usage: 69.3 MB\n"
          ],
          "name": "stdout"
        },
        {
          "output_type": "display_data",
          "data": {
            "text/plain": [
              "None"
            ]
          },
          "metadata": {
            "tags": []
          }
        },
        {
          "output_type": "display_data",
          "data": {
            "text/plain": [
              "Time      124592\n",
              "V1        275663\n",
              "V2        275663\n",
              "V3        275663\n",
              "V4        275663\n",
              "V5        275663\n",
              "V6        275663\n",
              "V7        275663\n",
              "V8        275663\n",
              "V9        275663\n",
              "V10       275663\n",
              "V11       275663\n",
              "V12       275663\n",
              "V13       275663\n",
              "V14       275663\n",
              "V15       275663\n",
              "V16       275663\n",
              "V17       275663\n",
              "V18       275663\n",
              "V19       275663\n",
              "V20       275663\n",
              "V21       275663\n",
              "V22       275663\n",
              "V23       275663\n",
              "V24       275663\n",
              "V25       275663\n",
              "V26       275663\n",
              "V27       275663\n",
              "V28       275663\n",
              "Amount     32767\n",
              "Class          2\n",
              "dtype: int64"
            ]
          },
          "metadata": {
            "tags": []
          }
        }
      ]
    },
    {
      "cell_type": "markdown",
      "metadata": {
        "id": "Qpzzm9hGukbO"
      },
      "source": [
        "NOTE: The data looks quite clean."
      ]
    },
    {
      "cell_type": "code",
      "metadata": {
        "colab": {
          "base_uri": "https://localhost:8080/",
          "height": 461
        },
        "id": "qRKhYYk0pbzH",
        "outputId": "5748213c-24b1-4469-8c76-3ca5373deda7"
      },
      "source": [
        "# Create a pair plot to look at relations between time and amount w/ respect to Class\n",
        "sns.pairplot(new_card_df,height=3,hue='Class')"
      ],
      "execution_count": null,
      "outputs": [
        {
          "output_type": "execute_result",
          "data": {
            "text/plain": [
              "<seaborn.axisgrid.PairGrid at 0x7f98c3e51190>"
            ]
          },
          "metadata": {
            "tags": []
          },
          "execution_count": 21
        },
        {
          "output_type": "display_data",
          "data": {
            "image/png": "[encoded data removed]",
            "text/plain": [
              "<Figure size 474.375x432 with 6 Axes>"
            ]
          },
          "metadata": {
            "tags": [],
            "needs_background": "light"
          }
        }
      ]
    },
    {
      "cell_type": "markdown",
      "metadata": {
        "id": "dvYgA_EspbzH"
      },
      "source": [
        "    We can already note that fraudulent purchases tend to be lower than $5000 (this is likely due to card spending limits).\n",
        "    (or atleast the plot used to show this more clearly?)"
      ]
    },
    {
      "cell_type": "code",
      "metadata": {
        "id": "n9q3vF0ppbzI"
      },
      "source": [
        "# Check power score\n",
        "import ppscore as pps"
      ],
      "execution_count": null,
      "outputs": []
    },
    {
      "cell_type": "code",
      "metadata": {
        "id": "ne2hE8NkpbzI",
        "colab": {
          "base_uri": "https://localhost:8080/",
          "height": 565
        },
        "outputId": "6b958c4e-9de1-4c26-f0ec-310fa079d0b5"
      },
      "source": [
        "# We can easily see that there is no ppscore indicating that the features are all pretty independant\n",
        "matrix_df = pps.matrix(card_df)[['x', 'y', 'ppscore']].pivot(columns='x', index='y', values='ppscore')\n",
        "sns.heatmap(matrix_df, vmin=0, vmax=1, cmap=\"Blues\", linewidths=0.5, annot=False)"
      ],
      "execution_count": null,
      "outputs": [
        {
          "output_type": "execute_result",
          "data": {
            "text/plain": [
              "<matplotlib.axes._subplots.AxesSubplot at 0x7f2f1c989410>"
            ]
          },
          "metadata": {
            "tags": []
          },
          "execution_count": 16
        },
        {
          "output_type": "display_data",
          "data": {
            "image/png": "[encoded data removed]",
            "text/plain": [
              "<Figure size 800x550 with 2 Axes>"
            ]
          },
          "metadata": {
            "tags": []
          }
        }
      ]
    },
    {
      "cell_type": "code",
      "metadata": {
        "id": "oKmnuuMMpbzI",
        "colab": {
          "base_uri": "https://localhost:8080/",
          "height": 545
        },
        "outputId": "2d23a23c-5879-4402-d21c-0ab0dbc141e5"
      },
      "source": [
        "# Correlation matrix\n",
        "## We can easily see that there is no correlation between any of the features.\n",
        "## This is relevant information as it allows us to determine whether or not\n",
        "## we can drop certain features. In this case there's no real reason to do this,\n",
        "from sklearn import metrics\n",
        "sns.heatmap(card_df.corr(),cmap='Blues')"
      ],
      "execution_count": null,
      "outputs": [
        {
          "output_type": "execute_result",
          "data": {
            "text/plain": [
              "<matplotlib.axes._subplots.AxesSubplot at 0x7f2f0627e8d0>"
            ]
          },
          "metadata": {
            "tags": []
          },
          "execution_count": 50
        },
        {
          "output_type": "display_data",
          "data": {
            "image/png": "[encoded data removed]",
            "text/plain": [
              "<Figure size 800x550 with 2 Axes>"
            ]
          },
          "metadata": {
            "tags": []
          }
        }
      ]
    },
    {
      "cell_type": "code",
      "metadata": {
        "id": "96WOp4oxpbzJ",
        "colab": {
          "base_uri": "https://localhost:8080/",
          "height": 606
        },
        "outputId": "48678c75-2687-4902-c0a3-3b6683c8a621"
      },
      "source": [
        "# Below we can see that there is great over lap in time distribution indicating that\n",
        "# time is not an important factor in whether or not a transaction is fraudulent\n",
        "new_card_df.boxplot(by='Class', layout = (2,4), figsize=(15,10))"
      ],
      "execution_count": null,
      "outputs": [
        {
          "output_type": "stream",
          "text": [
            "/usr/local/lib/python3.7/dist-packages/numpy/core/_asarray.py:83: VisibleDeprecationWarning: Creating an ndarray from ragged nested sequences (which is a list-or-tuple of lists-or-tuples-or ndarrays with different lengths or shapes) is deprecated. If you meant to do this, you must specify 'dtype=object' when creating the ndarray\n",
            "  return array(a, dtype, copy=False, order=order)\n",
            "/usr/local/lib/python3.7/dist-packages/numpy/core/_asarray.py:83: VisibleDeprecationWarning: Creating an ndarray from ragged nested sequences (which is a list-or-tuple of lists-or-tuples-or ndarrays with different lengths or shapes) is deprecated. If you meant to do this, you must specify 'dtype=object' when creating the ndarray\n",
            "  return array(a, dtype, copy=False, order=order)\n"
          ],
          "name": "stderr"
        },
        {
          "output_type": "execute_result",
          "data": {
            "text/plain": [
              "array([[<matplotlib.axes._subplots.AxesSubplot object at 0x7f87409a6790>,\n",
              "        <matplotlib.axes._subplots.AxesSubplot object at 0x7f874c417490>,\n",
              "        <matplotlib.axes._subplots.AxesSubplot object at 0x7f8740913cd0>,\n",
              "        <matplotlib.axes._subplots.AxesSubplot object at 0x7f87408d6390>],\n",
              "       [<matplotlib.axes._subplots.AxesSubplot object at 0x7f874088ca10>,\n",
              "        <matplotlib.axes._subplots.AxesSubplot object at 0x7f874084f0d0>,\n",
              "        <matplotlib.axes._subplots.AxesSubplot object at 0x7f87408847d0>,\n",
              "        <matplotlib.axes._subplots.AxesSubplot object at 0x7f8740839d90>]],\n",
              "      dtype=object)"
            ]
          },
          "metadata": {
            "tags": []
          },
          "execution_count": 12
        },
        {
          "output_type": "display_data",
          "data": {
            "image/png": "[encoded data removed]",
            "text/plain": [
              "<Figure size 1080x720 with 8 Axes>"
            ]
          },
          "metadata": {
            "tags": [],
            "needs_background": "light"
          }
        }
      ]
    },
    {
      "cell_type": "code",
      "metadata": {
        "id": "QIjg1-x5pbzJ",
        "outputId": "b04893e4-10e5-4889-cbf4-05da6975c167"
      },
      "source": [
        "# We can quickly look how the values are distributed for each feature per class (fruadulent or not)\n",
        "# Ideally there would be different medians indicating a functional dependance to the class\n",
        "card_df.drop(['Amount','Time'],axis=1).boxplot(by='Class',layout = (6,5),figsize=(15,20))"
      ],
      "execution_count": null,
      "outputs": [
        {
          "output_type": "execute_result",
          "data": {
            "text/plain": [
              "array([[<AxesSubplot:title={'center':'V1'}, xlabel='[Class]'>,\n",
              "        <AxesSubplot:title={'center':'V10'}, xlabel='[Class]'>,\n",
              "        <AxesSubplot:title={'center':'V11'}, xlabel='[Class]'>,\n",
              "        <AxesSubplot:title={'center':'V12'}, xlabel='[Class]'>,\n",
              "        <AxesSubplot:title={'center':'V13'}, xlabel='[Class]'>],\n",
              "       [<AxesSubplot:title={'center':'V14'}, xlabel='[Class]'>,\n",
              "        <AxesSubplot:title={'center':'V15'}, xlabel='[Class]'>,\n",
              "        <AxesSubplot:title={'center':'V16'}, xlabel='[Class]'>,\n",
              "        <AxesSubplot:title={'center':'V17'}, xlabel='[Class]'>,\n",
              "        <AxesSubplot:title={'center':'V18'}, xlabel='[Class]'>],\n",
              "       [<AxesSubplot:title={'center':'V19'}, xlabel='[Class]'>,\n",
              "        <AxesSubplot:title={'center':'V2'}, xlabel='[Class]'>,\n",
              "        <AxesSubplot:title={'center':'V20'}, xlabel='[Class]'>,\n",
              "        <AxesSubplot:title={'center':'V21'}, xlabel='[Class]'>,\n",
              "        <AxesSubplot:title={'center':'V22'}, xlabel='[Class]'>],\n",
              "       [<AxesSubplot:title={'center':'V23'}, xlabel='[Class]'>,\n",
              "        <AxesSubplot:title={'center':'V24'}, xlabel='[Class]'>,\n",
              "        <AxesSubplot:title={'center':'V25'}, xlabel='[Class]'>,\n",
              "        <AxesSubplot:title={'center':'V26'}, xlabel='[Class]'>,\n",
              "        <AxesSubplot:title={'center':'V27'}, xlabel='[Class]'>],\n",
              "       [<AxesSubplot:title={'center':'V28'}, xlabel='[Class]'>,\n",
              "        <AxesSubplot:title={'center':'V3'}, xlabel='[Class]'>,\n",
              "        <AxesSubplot:title={'center':'V4'}, xlabel='[Class]'>,\n",
              "        <AxesSubplot:title={'center':'V5'}, xlabel='[Class]'>,\n",
              "        <AxesSubplot:title={'center':'V6'}, xlabel='[Class]'>],\n",
              "       [<AxesSubplot:title={'center':'V7'}, xlabel='[Class]'>,\n",
              "        <AxesSubplot:title={'center':'V8'}, xlabel='[Class]'>,\n",
              "        <AxesSubplot:title={'center':'V9'}, xlabel='[Class]'>,\n",
              "        <AxesSubplot:>, <AxesSubplot:>]], dtype=object)"
            ]
          },
          "metadata": {
            "tags": []
          },
          "execution_count": 80
        },
        {
          "output_type": "display_data",
          "data": {
            "image/png": "[encoded data removed]",
            "text/plain": [
              "<Figure size 1080x1440 with 30 Axes>"
            ]
          },
          "metadata": {
            "tags": [],
            "needs_background": "light"
          }
        }
      ]
    },
    {
      "cell_type": "markdown",
      "metadata": {
        "id": "1PvgRBHW4kmY"
      },
      "source": [
        "### Model Selection (Spot Checking)\n",
        "-- Here we evaluate many different types of untuned models to check for a model that may work well with the data/problem."
      ]
    },
    {
      "cell_type": "markdown",
      "metadata": {
        "id": "IDmled-EaIlu"
      },
      "source": [
        "#### Traditional ML spotchecking"
      ]
    },
    {
      "cell_type": "code",
      "metadata": {
        "id": "CFCBx-HE4idk"
      },
      "source": [
        "## Singular models\n",
        "# Import the many different model types\n",
        "from sklearn.linear_model import LogisticRegression\n",
        "from sklearn.svm import SVC\n",
        "from sklearn.linear_model import SGDClassifier\n",
        "from sklearn.naive_bayes import GaussianNB\n",
        "from sklearn.tree import DecisionTreeClassifier\n",
        "# Ensemble models\n",
        "from sklearn.ensemble import RandomForestClassifier, BaggingClassifier\n",
        "from sklearn.ensemble import AdaBoostClassifier, GradientBoostingClassifier\n",
        "from sklearn.ensemble import VotingClassifier\n",
        "from xgboost import XGBClassifier"
      ],
      "execution_count": 8,
      "outputs": []
    },
    {
      "cell_type": "code",
      "metadata": {
        "id": "DEGYIpmGCuRS"
      },
      "source": [
        "from sklearn.model_selection import train_test_split\n",
        "# Seperate labels and Class in different vars\n",
        "X = card_df.drop('Class', axis=1)\n",
        "y = card_df.Class\n",
        "\n",
        "# Split data into train and test\n",
        "X_train, X_test, y_train, y_test = train_test_split(X, y, test_size=.3, random_state=seed)"
      ],
      "execution_count": 9,
      "outputs": []
    },
    {
      "cell_type": "code",
      "metadata": {
        "id": "HXdFFveBmIja"
      },
      "source": [
        "# Before we can fit we need to standardize the data\n",
        "from sklearn.preprocessing import StandardScaler\n",
        "\n",
        "# Define scaler\n",
        "scaler = StandardScaler().fit(X_train)\n",
        "\n",
        "# Scale the train set\n",
        "X_train = scaler.transform(X_train)\n",
        "# Scale the test set\n",
        "X_test = scaler.transform(X_test)"
      ],
      "execution_count": 10,
      "outputs": []
    },
    {
      "cell_type": "code",
      "metadata": {
        "colab": {
          "base_uri": "https://localhost:8080/"
        },
        "id": "fCdEwv1HC3Yv",
        "outputId": "f2f770e9-d370-4914-ff59-730b7343ee1f"
      },
      "source": [
        "lg = LogisticRegression(random_state=seed)\n",
        "svc = SVC(random_state=seed)\n",
        "sgd = SGDClassifier(random_state=seed)\n",
        "gnb = GaussianNB()\n",
        "dt = DecisionTreeClassifier(random_state=seed)\n",
        "\n",
        "# dict of models\n",
        "models = {\n",
        "    'lg': lg,\n",
        "    'svc':svc,\n",
        "    'sgd':sgd,\n",
        "    'gnb':gnb,\n",
        "    'dt':dt\n",
        "}\n",
        "# Show all the models and their default parameters\n",
        "models"
      ],
      "execution_count": 13,
      "outputs": [
        {
          "output_type": "execute_result",
          "data": {
            "text/plain": [
              "{'dt': DecisionTreeClassifier(ccp_alpha=0.0, class_weight=None, criterion='gini',\n",
              "                        max_depth=None, max_features=None, max_leaf_nodes=None,\n",
              "                        min_impurity_decrease=0.0, min_impurity_split=None,\n",
              "                        min_samples_leaf=1, min_samples_split=2,\n",
              "                        min_weight_fraction_leaf=0.0, presort='deprecated',\n",
              "                        random_state=42, splitter='best'),\n",
              " 'gnb': GaussianNB(priors=None, var_smoothing=1e-09),\n",
              " 'lg': LogisticRegression(C=1.0, class_weight=None, dual=False, fit_intercept=True,\n",
              "                    intercept_scaling=1, l1_ratio=None, max_iter=100,\n",
              "                    multi_class='auto', n_jobs=None, penalty='l2',\n",
              "                    random_state=42, solver='lbfgs', tol=0.0001, verbose=0,\n",
              "                    warm_start=False),\n",
              " 'sgd': SGDClassifier(alpha=0.0001, average=False, class_weight=None,\n",
              "               early_stopping=False, epsilon=0.1, eta0=0.0, fit_intercept=True,\n",
              "               l1_ratio=0.15, learning_rate='optimal', loss='hinge',\n",
              "               max_iter=1000, n_iter_no_change=5, n_jobs=None, penalty='l2',\n",
              "               power_t=0.5, random_state=42, shuffle=True, tol=0.001,\n",
              "               validation_fraction=0.1, verbose=0, warm_start=False),\n",
              " 'svc': SVC(C=1.0, break_ties=False, cache_size=200, class_weight=None, coef0=0.0,\n",
              "     decision_function_shape='ovr', degree=3, gamma='scale', kernel='rbf',\n",
              "     max_iter=-1, probability=False, random_state=42, shrinking=True, tol=0.001,\n",
              "     verbose=False)}"
            ]
          },
          "metadata": {
            "tags": []
          },
          "execution_count": 13
        }
      ]
    },
    {
      "cell_type": "code",
      "metadata": {
        "id": "rafFKCh1mMO0"
      },
      "source": [
        "# Function that will evaluate our tradition ML models and print out results\n",
        "from sklearn import metrics\n",
        "def evaluate_ml_model (model,model_name,X_train,y_train) :\n",
        "  model = model.fit(X_train, y_train)\n",
        "  y_pred = model.predict(X_test)\n",
        "  acc = metrics.accuracy_score(y_test,y_pred)\n",
        "  recall = metrics.recall_score(y_test,y_pred)\n",
        "  print(f'-->{model_name} model -- acc: {acc}, recall:{recall}\\n')"
      ],
      "execution_count": 11,
      "outputs": []
    },
    {
      "cell_type": "code",
      "metadata": {
        "colab": {
          "base_uri": "https://localhost:8080/"
        },
        "id": "57OO2qrXEvOS",
        "outputId": "3feefc38-9abf-443d-a08a-1a554c4689c0"
      },
      "source": [
        "from sklearn import metrics\n",
        "# Evaluate singular models\n",
        "# Unsurprisingly we see that the decision tree is the best nonensemble model\n",
        "## NOTE: recall is the most important metric here as our data is very imbalanced\n",
        "for model_name,model in models.items():\n",
        "  evaluate_ml_model(model,model_name,X_train,y_train)"
      ],
      "execution_count": 14,
      "outputs": [
        {
          "output_type": "stream",
          "text": [
            "-->lg model -- acc: 0.9991658638595832, recall:0.5522388059701493\n",
            "\n",
            "-->svc model -- acc: 0.9993655865974295, recall:0.6343283582089553\n",
            "\n",
            "-->sgd model -- acc: 0.9990248831034564, recall:0.44029850746268656\n",
            "\n",
            "-->gnb model -- acc: 0.9777837825136869, recall:0.7910447761194029\n",
            "\n",
            "-->dt model -- acc: 0.9990953734815198, recall:0.7611940298507462\n",
            "\n"
          ],
          "name": "stdout"
        }
      ]
    },
    {
      "cell_type": "code",
      "metadata": {
        "colab": {
          "base_uri": "https://localhost:8080/"
        },
        "id": "FnXMF1p_HMoq",
        "outputId": "b6b97487-6388-44f8-89ed-59962690d687"
      },
      "source": [
        "# Need to set some random seeds\n",
        "# Ensemble models\n",
        "rf = RandomForestClassifier(random_state=seed)\n",
        "ab = AdaBoostClassifier(random_state=seed)\n",
        "bc = BaggingClassifier(random_state=seed)\n",
        "gb = GradientBoostingClassifier(random_state=seed)\n",
        "xgb = XGBClassifier(random_state=seed)\n",
        "\n",
        "models_e = {\n",
        "    'rf':rf,\n",
        "    'ab':ab,\n",
        "    'bc':bc,\n",
        "    'gb':gb,\n",
        "    'xgb':xgb\n",
        "}\n",
        "models_e"
      ],
      "execution_count": null,
      "outputs": [
        {
          "output_type": "execute_result",
          "data": {
            "text/plain": [
              "{'ab': AdaBoostClassifier(algorithm='SAMME.R', base_estimator=None, learning_rate=1.0,\n",
              "                    n_estimators=50, random_state=42),\n",
              " 'bc': BaggingClassifier(base_estimator=None, bootstrap=True, bootstrap_features=False,\n",
              "                   max_features=1.0, max_samples=1.0, n_estimators=10,\n",
              "                   n_jobs=None, oob_score=False, random_state=42, verbose=0,\n",
              "                   warm_start=False),\n",
              " 'gb': GradientBoostingClassifier(ccp_alpha=0.0, criterion='friedman_mse', init=None,\n",
              "                            learning_rate=0.1, loss='deviance', max_depth=3,\n",
              "                            max_features=None, max_leaf_nodes=None,\n",
              "                            min_impurity_decrease=0.0, min_impurity_split=None,\n",
              "                            min_samples_leaf=1, min_samples_split=2,\n",
              "                            min_weight_fraction_leaf=0.0, n_estimators=100,\n",
              "                            n_iter_no_change=None, presort='deprecated',\n",
              "                            random_state=42, subsample=1.0, tol=0.0001,\n",
              "                            validation_fraction=0.1, verbose=0,\n",
              "                            warm_start=False),\n",
              " 'rf': RandomForestClassifier(bootstrap=True, ccp_alpha=0.0, class_weight=None,\n",
              "                        criterion='gini', max_depth=None, max_features='auto',\n",
              "                        max_leaf_nodes=None, max_samples=None,\n",
              "                        min_impurity_decrease=0.0, min_impurity_split=None,\n",
              "                        min_samples_leaf=1, min_samples_split=2,\n",
              "                        min_weight_fraction_leaf=0.0, n_estimators=100,\n",
              "                        n_jobs=None, oob_score=False, random_state=42, verbose=0,\n",
              "                        warm_start=False),\n",
              " 'xgb': XGBClassifier(base_score=0.5, booster='gbtree', colsample_bylevel=1,\n",
              "               colsample_bynode=1, colsample_bytree=1, gamma=0,\n",
              "               learning_rate=0.1, max_delta_step=0, max_depth=3,\n",
              "               min_child_weight=1, missing=None, n_estimators=100, n_jobs=1,\n",
              "               nthread=None, objective='binary:logistic', random_state=42,\n",
              "               reg_alpha=0, reg_lambda=1, scale_pos_weight=1, seed=None,\n",
              "               silent=None, subsample=1, verbosity=1)}"
            ]
          },
          "metadata": {
            "tags": []
          },
          "execution_count": 126
        }
      ]
    },
    {
      "cell_type": "code",
      "metadata": {
        "colab": {
          "base_uri": "https://localhost:8080/"
        },
        "id": "RLInWL7nJ63N",
        "outputId": "6a36e411-a075-4e55-daf9-5fae9e88ebe0"
      },
      "source": [
        "# Evaluate ensemble models\n",
        "for model_name,model in models_e.items():\n",
        "  evaluate_ml_model(model,model_name,X_train,y_train)"
      ],
      "execution_count": null,
      "outputs": [
        {
          "output_type": "stream",
          "text": [
            "-->rf model -- acc: 0.9995065673535563, recall:0.7238805970149254\n",
            "\n",
            "-->ab model -- acc: 0.9992481026339904, recall:0.6343283582089553\n",
            "\n",
            "-->bc model -- acc: 0.9995183157499001, recall:0.753731343283582\n",
            "\n",
            "-->gb model -- acc: 0.999060128292488, recall:0.47761194029850745\n",
            "\n",
            "-->xgb model -- acc: 0.9995183157499001, recall:0.7388059701492538\n",
            "\n"
          ],
          "name": "stdout"
        }
      ]
    },
    {
      "cell_type": "markdown",
      "metadata": {
        "id": "X8nu5fRPV9Qm"
      },
      "source": [
        "NOTE: We see that the decision tree (recall:0.761) and bagging models (recall:0.746) are the two best models so we shall explore and evaluate them further."
      ]
    },
    {
      "cell_type": "markdown",
      "metadata": {
        "id": "X-mX5lD-Y0Qu"
      },
      "source": [
        "#### DL spot check\n",
        "  -We spot check a simple neural network model"
      ]
    },
    {
      "cell_type": "code",
      "metadata": {
        "id": "Jj6W2Y67Y05b"
      },
      "source": [
        "# Create basic DL model\n",
        "from tensorflow.keras import Sequential\n",
        "import tensorflow as tf\n",
        "import tensorflow.keras.layers as layers\n",
        "# Set random seed\n",
        "from numpy.random import seed as np_seed\n",
        "np_seed(42)\n",
        "tf.random.set_seed(seed)"
      ],
      "execution_count": 15,
      "outputs": []
    },
    {
      "cell_type": "code",
      "metadata": {
        "id": "GRA3LWzmpTsx"
      },
      "source": [
        "# Dataframe that holds recall and accuracy values of each notable model\n",
        "models_summary = pd.DataFrame(columns=['mdl_name','accuracy','recall'])"
      ],
      "execution_count": 16,
      "outputs": []
    },
    {
      "cell_type": "code",
      "metadata": {
        "id": "dFiMqbcXpZsq"
      },
      "source": [
        "# Function that creates a DL model\n",
        "def Create_Basemodel ():\n",
        "  model_dl = Sequential([\n",
        "    layers.Dense(activation='relu',input_dim=30,units=16,kernel_initializer='uniform'),\n",
        "    layers.Dense(16,activation='relu',kernel_initializer='uniform'),\n",
        "    layers.Dense(1,activation='sigmoid',kernel_initializer='uniform')\n",
        "    ])\n",
        "  # Compile model\n",
        "  model_dl.compile(loss='binary_crossentropy', optimizer='adam',metrics=['Recall','accuracy'])\n",
        "  return model_dl"
      ],
      "execution_count": 17,
      "outputs": []
    },
    {
      "cell_type": "code",
      "metadata": {
        "id": "pBCF8TuQeYQQ"
      },
      "source": [
        "# Function to evaluate DL base model\n",
        "def Evaluate_DL_Model (model_name,model_dl,X_train, y_train):\n",
        "  train_eval = model_dl.evaluate(X_train,y_train,verbose=0)\n",
        "  test_eval = model_dl.evaluate(X_test,y_test,verbose=0)\n",
        "  train_str = f'-->{model_name} train -- accuracy: {train_eval[2]}, recall:{train_eval[1]}'\n",
        "  test_str = f'-->{model_name} test -- accuracy: {test_eval[2]}, recall:{test_eval[1]}'\n",
        "  #print(train_str)\n",
        "  #print(test_str)\n",
        "  models_summary.loc[len(models_summary),:] = [model_name,test_eval[2],test_eval[1]]\n",
        "  return train_str, test_str"
      ],
      "execution_count": 18,
      "outputs": []
    },
    {
      "cell_type": "code",
      "metadata": {
        "id": "Kf-9vlkPu4TO"
      },
      "source": [
        "model_dl = Create_Basemodel()"
      ],
      "execution_count": 19,
      "outputs": []
    },
    {
      "cell_type": "code",
      "metadata": {
        "id": "SC9ujlwar6_L"
      },
      "source": [
        "# Add early stopping for the sake of efficiency (and time)\n",
        "from tensorflow.keras.callbacks import ModelCheckpoint, EarlyStopping\n",
        "early_stopping = EarlyStopping(monitor='val_loss', min_delta=0.001, patience=10)"
      ],
      "execution_count": 20,
      "outputs": []
    },
    {
      "cell_type": "code",
      "metadata": {
        "colab": {
          "base_uri": "https://localhost:8080/"
        },
        "id": "d4cD8QGLjzEb",
        "outputId": "5fa8ec74-c86a-4db5-f844-f39462d02700"
      },
      "source": [
        "# Now we can fit and evaluate the model\n",
        "history = model_dl.fit(X_train,y_train,epochs=16,batch_size=100,validation_data=(X_test,y_test),verbose=1,callbacks=[early_stopping])"
      ],
      "execution_count": 21,
      "outputs": [
        {
          "output_type": "stream",
          "text": [
            "Epoch 1/16\n",
            "1987/1987 [==============================] - 11s 4ms/step - loss: 0.1246 - recall: 0.0000e+00 - accuracy: 0.9976 - val_loss: 0.0041 - val_recall: 0.0000e+00 - val_accuracy: 0.9984\n",
            "Epoch 2/16\n",
            "1987/1987 [==============================] - 7s 4ms/step - loss: 0.0039 - recall: 0.0000e+00 - accuracy: 0.9983 - val_loss: 0.0037 - val_recall: 0.0000e+00 - val_accuracy: 0.9984\n",
            "Epoch 3/16\n",
            "1987/1987 [==============================] - 7s 4ms/step - loss: 0.0033 - recall: 0.0197 - accuracy: 0.9984 - val_loss: 0.0035 - val_recall: 0.7164 - val_accuracy: 0.9994\n",
            "Epoch 4/16\n",
            "1987/1987 [==============================] - 7s 4ms/step - loss: 0.0034 - recall: 0.7654 - accuracy: 0.9993 - val_loss: 0.0031 - val_recall: 0.7761 - val_accuracy: 0.9995\n",
            "Epoch 5/16\n",
            "1987/1987 [==============================] - 7s 4ms/step - loss: 0.0021 - recall: 0.8294 - accuracy: 0.9996 - val_loss: 0.0031 - val_recall: 0.7687 - val_accuracy: 0.9995\n",
            "Epoch 6/16\n",
            "1987/1987 [==============================] - 7s 4ms/step - loss: 0.0025 - recall: 0.8395 - accuracy: 0.9995 - val_loss: 0.0031 - val_recall: 0.7537 - val_accuracy: 0.9994\n",
            "Epoch 7/16\n",
            "1987/1987 [==============================] - 7s 4ms/step - loss: 0.0021 - recall: 0.8330 - accuracy: 0.9995 - val_loss: 0.0030 - val_recall: 0.7463 - val_accuracy: 0.9994\n",
            "Epoch 8/16\n",
            "1987/1987 [==============================] - 7s 4ms/step - loss: 0.0025 - recall: 0.8365 - accuracy: 0.9995 - val_loss: 0.0032 - val_recall: 0.7687 - val_accuracy: 0.9994\n",
            "Epoch 9/16\n",
            "1987/1987 [==============================] - 7s 4ms/step - loss: 0.0025 - recall: 0.8027 - accuracy: 0.9994 - val_loss: 0.0032 - val_recall: 0.7313 - val_accuracy: 0.9994\n",
            "Epoch 10/16\n",
            "1987/1987 [==============================] - 7s 4ms/step - loss: 0.0023 - recall: 0.8236 - accuracy: 0.9994 - val_loss: 0.0031 - val_recall: 0.7313 - val_accuracy: 0.9994\n",
            "Epoch 11/16\n",
            "1987/1987 [==============================] - 7s 4ms/step - loss: 0.0021 - recall: 0.8158 - accuracy: 0.9994 - val_loss: 0.0030 - val_recall: 0.7687 - val_accuracy: 0.9995\n",
            "Epoch 12/16\n",
            "1987/1987 [==============================] - 7s 4ms/step - loss: 0.0021 - recall: 0.8115 - accuracy: 0.9995 - val_loss: 0.0031 - val_recall: 0.7761 - val_accuracy: 0.9994\n",
            "Epoch 13/16\n",
            "1987/1987 [==============================] - 7s 4ms/step - loss: 0.0024 - recall: 0.8200 - accuracy: 0.9995 - val_loss: 0.0031 - val_recall: 0.7612 - val_accuracy: 0.9995\n",
            "Epoch 14/16\n",
            "1987/1987 [==============================] - 7s 4ms/step - loss: 0.0019 - recall: 0.8526 - accuracy: 0.9995 - val_loss: 0.0032 - val_recall: 0.7687 - val_accuracy: 0.9995\n",
            "Epoch 15/16\n",
            "1987/1987 [==============================] - 7s 4ms/step - loss: 0.0022 - recall: 0.8057 - accuracy: 0.9995 - val_loss: 0.0031 - val_recall: 0.7761 - val_accuracy: 0.9995\n"
          ],
          "name": "stdout"
        }
      ]
    },
    {
      "cell_type": "code",
      "metadata": {
        "colab": {
          "base_uri": "https://localhost:8080/"
        },
        "id": "0rMeNNnuiAOI",
        "outputId": "a0d23729-0399-4d15-b56d-dd8b8fd4dc68"
      },
      "source": [
        "print(Evaluate_DL_Model('DL model',model_dl,X_train,y_train))"
      ],
      "execution_count": 22,
      "outputs": [
        {
          "output_type": "stream",
          "text": [
            "('-->DL model train -- accuracy: 0.9995367527008057, recall:0.8495575189590454', '-->DL model test -- accuracy: 0.9994713068008423, recall:0.7761194109916687')\n"
          ],
          "name": "stdout"
        }
      ]
    },
    {
      "cell_type": "code",
      "metadata": {
        "colab": {
          "base_uri": "https://localhost:8080/",
          "height": 315
        },
        "id": "Zj-vZXZsScto",
        "outputId": "7969402c-1749-4f6e-efd8-4d407607024d"
      },
      "source": [
        "## Plot learning curves (Loss curves)\n",
        "# The two plots below show that are model is not learning\n",
        "plt.subplot(211)\n",
        "plt.title('Loss')\n",
        "plt.plot(history.history['loss'],label='train')\n",
        "plt.plot(history.history['val_loss'],label='test')\n",
        "plt.legend()\n",
        "print()\n",
        "\n",
        "# Evaluate model (Accuracy curve)\n",
        "## Plot learning curves (Loss curves)\n",
        "plt.subplot(212)\n",
        "plt.title('Accuracy')\n",
        "plt.plot(history.history['accuracy'],label='train')\n",
        "plt.plot(history.history['val_accuracy'],label='test')\n",
        "plt.legend()"
      ],
      "execution_count": 24,
      "outputs": [
        {
          "output_type": "stream",
          "text": [
            "\n"
          ],
          "name": "stdout"
        },
        {
          "output_type": "execute_result",
          "data": {
            "text/plain": [
              "<matplotlib.legend.Legend at 0x7feeb206af10>"
            ]
          },
          "metadata": {
            "tags": []
          },
          "execution_count": 24
        },
        {
          "output_type": "display_data",
          "data": {
            "image/png": "[encoded data removed]",
            "text/plain": [
              "<Figure size 432x288 with 2 Axes>"
            ]
          },
          "metadata": {
            "tags": [],
            "needs_background": "light"
          }
        }
      ]
    },
    {
      "cell_type": "markdown",
      "metadata": {
        "id": "R3Dwv9O8YAdY"
      },
      "source": [
        "NOTE: Signs of overfitting are revealed as the loss on the training data decreased while loss on the test data remained unchanged.<br>\n",
        "This is unsurprising as our data is very unbalanced."
      ]
    },
    {
      "cell_type": "markdown",
      "metadata": {
        "id": "X8zIgWU3tpQK"
      },
      "source": [
        "NOTE: So after a quick spot checking ill look further into tuning the DL (recall:0.776) and  GaussianNB (recall:0.791)."
      ]
    },
    {
      "cell_type": "markdown",
      "metadata": {
        "id": "rujn7xtbiuoK"
      },
      "source": [
        "### Deal with the data imbalance\n",
        "  - Use oversampling and undersampling to see if we can positively address the issue of the imbalanced dataset"
      ]
    },
    {
      "cell_type": "markdown",
      "metadata": {
        "id": "VXCDM4hrb4PU"
      },
      "source": [
        "#### Random Oversampling"
      ]
    },
    {
      "cell_type": "code",
      "metadata": {
        "id": "eqsC8qZ9jAog",
        "colab": {
          "base_uri": "https://localhost:8080/"
        },
        "outputId": "248b15dd-6568-4097-cf83-4e14dc05c564"
      },
      "source": [
        "from imblearn.over_sampling import RandomOverSampler"
      ],
      "execution_count": 25,
      "outputs": [
        {
          "output_type": "stream",
          "text": [
            "/usr/local/lib/python3.7/dist-packages/sklearn/externals/six.py:31: FutureWarning: The module is deprecated in version 0.21 and will be removed in version 0.23 since we've dropped support for Python 2.7. Please rely on the official version of six (https://pypi.org/project/six/).\n",
            "  \"(https://pypi.org/project/six/).\", FutureWarning)\n",
            "/usr/local/lib/python3.7/dist-packages/sklearn/utils/deprecation.py:144: FutureWarning: The sklearn.neighbors.base module is  deprecated in version 0.22 and will be removed in version 0.24. The corresponding classes / functions should instead be imported from sklearn.neighbors. Anything that cannot be imported from sklearn.neighbors is now part of the private API.\n",
            "  warnings.warn(message, FutureWarning)\n"
          ],
          "name": "stderr"
        }
      ]
    },
    {
      "cell_type": "code",
      "metadata": {
        "colab": {
          "base_uri": "https://localhost:8080/"
        },
        "id": "Q0NeoYn_jcYz",
        "outputId": "18341b6e-62b9-4b4f-fff2-0667279530e5"
      },
      "source": [
        "## Random oversampling\n",
        "oversample = RandomOverSampler(sampling_strategy=1)\n",
        "X_over,y_over = oversample.fit_resample(X_train,y_train)\n",
        "# As a result of oversampling there are just as many of each class cases\n",
        "df = pd.DataFrame(y_over)\n",
        "df.value_counts()"
      ],
      "execution_count": 26,
      "outputs": [
        {
          "output_type": "stream",
          "text": [
            "/usr/local/lib/python3.7/dist-packages/sklearn/utils/deprecation.py:87: FutureWarning: Function safe_indexing is deprecated; safe_indexing is deprecated in version 0.22 and will be removed in version 0.24.\n",
            "  warnings.warn(msg, category=FutureWarning)\n"
          ],
          "name": "stderr"
        },
        {
          "output_type": "execute_result",
          "data": {
            "text/plain": [
              "1    198269\n",
              "0    198269\n",
              "dtype: int64"
            ]
          },
          "metadata": {
            "tags": []
          },
          "execution_count": 26
        }
      ]
    },
    {
      "cell_type": "code",
      "metadata": {
        "colab": {
          "base_uri": "https://localhost:8080/"
        },
        "id": "bnpBfoLKxdkr",
        "outputId": "74971831-42b4-4c9f-e64c-121ff192602e"
      },
      "source": [
        "# Lets refit and revaluate our best performing model (gnb)\n",
        "gnb = GaussianNB()\n",
        "evaluate_ml_model(gnb,'Gnb model',X_over,y_over)"
      ],
      "execution_count": 27,
      "outputs": [
        {
          "output_type": "stream",
          "text": [
            "-->Gnb model model -- acc: 0.9732606499212857, recall:0.8134328358208955\n",
            "\n"
          ],
          "name": "stdout"
        }
      ]
    },
    {
      "cell_type": "code",
      "metadata": {
        "id": "QhqQmAvT0xpM",
        "colab": {
          "base_uri": "https://localhost:8080/"
        },
        "outputId": "38f13be0-3805-4360-d713-7eaa873799e2"
      },
      "source": [
        "# Refit/evaluate dl model\n",
        "model_dl = Create_Basemodel()\n",
        "# Now we can fit and evaluate the model\n",
        "history = model_dl.fit(X_over,y_over,epochs=16,batch_size=100,validation_data=(X_test,y_test),verbose=1,callbacks=[early_stopping])\n",
        "#Evaluate model \n",
        "Evaluate_DL_Model('Random Over DL',model_dl,X_over,y_over)"
      ],
      "execution_count": 29,
      "outputs": [
        {
          "output_type": "stream",
          "text": [
            "Epoch 1/16\n",
            "3966/3966 [==============================] - 13s 3ms/step - loss: 0.1270 - recall: 0.9563 - accuracy: 0.9694 - val_loss: 0.0209 - val_recall: 0.8284 - val_accuracy: 0.9943\n",
            "Epoch 2/16\n",
            "3966/3966 [==============================] - 13s 3ms/step - loss: 0.0103 - recall: 0.9998 - accuracy: 0.9979 - val_loss: 0.0172 - val_recall: 0.8209 - val_accuracy: 0.9970\n",
            "Epoch 3/16\n",
            "3966/3966 [==============================] - 12s 3ms/step - loss: 0.0067 - recall: 0.9999 - accuracy: 0.9986 - val_loss: 0.0184 - val_recall: 0.8209 - val_accuracy: 0.9977\n",
            "Epoch 4/16\n",
            "3966/3966 [==============================] - 12s 3ms/step - loss: 0.0050 - recall: 0.9998 - accuracy: 0.9990 - val_loss: 0.0211 - val_recall: 0.8134 - val_accuracy: 0.9976\n",
            "Epoch 5/16\n",
            "3966/3966 [==============================] - 12s 3ms/step - loss: 0.0050 - recall: 0.9998 - accuracy: 0.9991 - val_loss: 0.0214 - val_recall: 0.8284 - val_accuracy: 0.9980\n",
            "Epoch 6/16\n",
            "3966/3966 [==============================] - 13s 3ms/step - loss: 0.0041 - recall: 0.9998 - accuracy: 0.9992 - val_loss: 0.0228 - val_recall: 0.8209 - val_accuracy: 0.9980\n",
            "Epoch 7/16\n",
            "3966/3966 [==============================] - 12s 3ms/step - loss: 0.0042 - recall: 0.9999 - accuracy: 0.9992 - val_loss: 0.0229 - val_recall: 0.8209 - val_accuracy: 0.9984\n",
            "Epoch 8/16\n",
            "3966/3966 [==============================] - 13s 3ms/step - loss: 0.0038 - recall: 0.9998 - accuracy: 0.9993 - val_loss: 0.0242 - val_recall: 0.8060 - val_accuracy: 0.9981\n",
            "Epoch 9/16\n",
            "3966/3966 [==============================] - 12s 3ms/step - loss: 0.0043 - recall: 0.9998 - accuracy: 0.9992 - val_loss: 0.0266 - val_recall: 0.8209 - val_accuracy: 0.9981\n",
            "Epoch 10/16\n",
            "3966/3966 [==============================] - 13s 3ms/step - loss: 0.0033 - recall: 0.9999 - accuracy: 0.9994 - val_loss: 0.0331 - val_recall: 0.8284 - val_accuracy: 0.9965\n",
            "Epoch 11/16\n",
            "3966/3966 [==============================] - 13s 3ms/step - loss: 0.0033 - recall: 0.9999 - accuracy: 0.9994 - val_loss: 0.0269 - val_recall: 0.8134 - val_accuracy: 0.9984\n",
            "Epoch 12/16\n",
            "3966/3966 [==============================] - 13s 3ms/step - loss: 0.0029 - recall: 0.9999 - accuracy: 0.9995 - val_loss: 0.0287 - val_recall: 0.8134 - val_accuracy: 0.9980\n"
          ],
          "name": "stdout"
        },
        {
          "output_type": "execute_result",
          "data": {
            "text/plain": [
              "('-->Random Over DL train -- accuracy: 0.9993972778320312, recall:1.0',\n",
              " '-->Random Over DL test -- accuracy: 0.998049795627594, recall:0.8134328126907349')"
            ]
          },
          "metadata": {
            "tags": []
          },
          "execution_count": 29
        }
      ]
    },
    {
      "cell_type": "markdown",
      "metadata": {
        "id": "Gmu26rk3bTbB"
      },
      "source": [
        "Note: Both models performed better after oversampling though the DL model continues to show signs of overfitting (recall score decreases for each epoch).<br>\n",
        "Note: The DL model shows promise after the first epoch (recall score of 0.8284)."
      ]
    },
    {
      "cell_type": "markdown",
      "metadata": {
        "id": "_Twn7Du7b-tZ"
      },
      "source": [
        "#### Undersampling"
      ]
    },
    {
      "cell_type": "code",
      "metadata": {
        "id": "gCGwE2mqcMtF",
        "colab": {
          "base_uri": "https://localhost:8080/"
        },
        "outputId": "ec99dc9e-07a3-4b87-bb17-bf84afc2ad31"
      },
      "source": [
        "from imblearn.under_sampling import RandomUnderSampler\n",
        "undersample = RandomUnderSampler(sampling_strategy=.5)\n",
        "X_under,y_under = undersample.fit_resample(X_train,y_train)\n",
        "# As a result of oversampling there are just as many of each class cases\n",
        "df = pd.DataFrame(y_under)\n",
        "df.value_counts()"
      ],
      "execution_count": 30,
      "outputs": [
        {
          "output_type": "stream",
          "text": [
            "/usr/local/lib/python3.7/dist-packages/sklearn/utils/deprecation.py:87: FutureWarning: Function safe_indexing is deprecated; safe_indexing is deprecated in version 0.22 and will be removed in version 0.24.\n",
            "  warnings.warn(msg, category=FutureWarning)\n"
          ],
          "name": "stderr"
        },
        {
          "output_type": "execute_result",
          "data": {
            "text/plain": [
              "0    678\n",
              "1    339\n",
              "dtype: int64"
            ]
          },
          "metadata": {
            "tags": []
          },
          "execution_count": 30
        }
      ]
    },
    {
      "cell_type": "code",
      "metadata": {
        "colab": {
          "base_uri": "https://localhost:8080/"
        },
        "id": "8YiqLDZ1zE5T",
        "outputId": "5754875b-ba5f-4aac-ca9b-010d827696d9"
      },
      "source": [
        "# Lets refit and revaluate our best performing model (gnb)\n",
        "gnb = GaussianNB()\n",
        "evaluate_ml_model(gnb,'Gnb model',X_under,y_under)"
      ],
      "execution_count": 31,
      "outputs": [
        {
          "output_type": "stream",
          "text": [
            "-->Gnb model model -- acc: 0.9721563006649593, recall:0.7985074626865671\n",
            "\n"
          ],
          "name": "stdout"
        }
      ]
    },
    {
      "cell_type": "code",
      "metadata": {
        "colab": {
          "base_uri": "https://localhost:8080/"
        },
        "id": "UMT294jvznG1",
        "outputId": "663e9aee-e77b-4740-b3c4-f72a9dec715f"
      },
      "source": [
        "# Refit/evaluate dl model\n",
        "model_dl = Create_Basemodel()\n",
        "# Now we can fit and evaluate the model\n",
        "history = model_dl.fit(X_under,y_under,epochs=16,batch_size=100,validation_data=(X_test,y_test),verbose=1,callbacks=[early_stopping])\n",
        "#Evaluate model \n",
        "Evaluate_DL_Model('Random Under DL',model_dl,X_under,y_under)"
      ],
      "execution_count": 33,
      "outputs": [
        {
          "output_type": "stream",
          "text": [
            "Epoch 1/16\n",
            "11/11 [==============================] - 3s 198ms/step - loss: 0.6920 - recall: 0.3920 - accuracy: 0.7291 - val_loss: 0.6864 - val_recall: 0.6343 - val_accuracy: 0.9992\n",
            "Epoch 2/16\n",
            "11/11 [==============================] - 2s 171ms/step - loss: 0.6842 - recall: 0.7295 - accuracy: 0.9090 - val_loss: 0.6778 - val_recall: 0.7612 - val_accuracy: 0.9993\n",
            "Epoch 3/16\n",
            "11/11 [==============================] - 2s 165ms/step - loss: 0.6676 - recall: 0.7960 - accuracy: 0.9310 - val_loss: 0.6665 - val_recall: 0.7612 - val_accuracy: 0.9992\n",
            "Epoch 4/16\n",
            "11/11 [==============================] - 2s 166ms/step - loss: 0.6340 - recall: 0.8156 - accuracy: 0.9385 - val_loss: 0.6495 - val_recall: 0.7687 - val_accuracy: 0.9990\n",
            "Epoch 5/16\n",
            "11/11 [==============================] - 2s 168ms/step - loss: 0.5862 - recall: 0.8152 - accuracy: 0.9361 - val_loss: 0.6247 - val_recall: 0.7836 - val_accuracy: 0.9982\n",
            "Epoch 6/16\n",
            "11/11 [==============================] - 2s 169ms/step - loss: 0.5192 - recall: 0.8504 - accuracy: 0.9459 - val_loss: 0.5893 - val_recall: 0.7910 - val_accuracy: 0.9973\n",
            "Epoch 7/16\n",
            "11/11 [==============================] - 2s 163ms/step - loss: 0.4788 - recall: 0.8248 - accuracy: 0.9365 - val_loss: 0.5407 - val_recall: 0.8060 - val_accuracy: 0.9969\n",
            "Epoch 8/16\n",
            "11/11 [==============================] - 2s 165ms/step - loss: 0.4304 - recall: 0.8097 - accuracy: 0.9355 - val_loss: 0.4803 - val_recall: 0.8060 - val_accuracy: 0.9972\n",
            "Epoch 9/16\n",
            "11/11 [==============================] - 2s 163ms/step - loss: 0.3750 - recall: 0.8455 - accuracy: 0.9478 - val_loss: 0.4128 - val_recall: 0.8134 - val_accuracy: 0.9964\n",
            "Epoch 10/16\n",
            "11/11 [==============================] - 2s 164ms/step - loss: 0.3213 - recall: 0.8587 - accuracy: 0.9519 - val_loss: 0.3441 - val_recall: 0.8134 - val_accuracy: 0.9965\n",
            "Epoch 11/16\n",
            "11/11 [==============================] - 2s 165ms/step - loss: 0.2946 - recall: 0.8363 - accuracy: 0.9469 - val_loss: 0.2826 - val_recall: 0.8209 - val_accuracy: 0.9950\n",
            "Epoch 12/16\n",
            "11/11 [==============================] - 2s 168ms/step - loss: 0.2432 - recall: 0.8707 - accuracy: 0.9562 - val_loss: 0.2289 - val_recall: 0.8284 - val_accuracy: 0.9949\n",
            "Epoch 13/16\n",
            "11/11 [==============================] - 2s 164ms/step - loss: 0.2041 - recall: 0.8837 - accuracy: 0.9611 - val_loss: 0.1855 - val_recall: 0.8433 - val_accuracy: 0.9947\n",
            "Epoch 14/16\n",
            "11/11 [==============================] - 2s 166ms/step - loss: 0.1885 - recall: 0.8796 - accuracy: 0.9591 - val_loss: 0.1563 - val_recall: 0.8433 - val_accuracy: 0.9927\n",
            "Epoch 15/16\n",
            "11/11 [==============================] - 2s 166ms/step - loss: 0.1730 - recall: 0.8899 - accuracy: 0.9580 - val_loss: 0.1327 - val_recall: 0.8433 - val_accuracy: 0.9928\n",
            "Epoch 16/16\n",
            "11/11 [==============================] - 2s 165ms/step - loss: 0.1569 - recall: 0.8862 - accuracy: 0.9563 - val_loss: 0.1154 - val_recall: 0.8507 - val_accuracy: 0.9918\n"
          ],
          "name": "stdout"
        },
        {
          "output_type": "execute_result",
          "data": {
            "text/plain": [
              "('-->Random Under DL train -- accuracy: 0.9606686234474182, recall:0.8908554315567017',\n",
              " '-->Random Under DL test -- accuracy: 0.9917995929718018, recall:0.8507462739944458')"
            ]
          },
          "metadata": {
            "tags": []
          },
          "execution_count": 33
        }
      ]
    },
    {
      "cell_type": "markdown",
      "metadata": {
        "id": "UhY6gTDooIuU"
      },
      "source": [
        "NOTE: -Both models perform better with both random undersampling and oversampling.<br>\n",
        "-Deeplearning model on the undersampled data had a high recall of .85\n",
        "\n"
      ]
    },
    {
      "cell_type": "markdown",
      "metadata": {
        "id": "cD5XINIgpzPO"
      },
      "source": [
        "#### Synthetic sampling (SMOTE)\n",
        " -An oversampling method that creates synthetic data<br>\n",
        " -Here we eventually tested combining SMOTE with Random undersampling"
      ]
    },
    {
      "cell_type": "code",
      "metadata": {
        "id": "5Ek_EPC-wvyR"
      },
      "source": [
        "# Combination of over and undersampling\n",
        "from imblearn.over_sampling import SMOTE\n",
        "oversample_s = SMOTE(sampling_strategy=.3)\n",
        "undersample_s = RandomUnderSampler(sampling_strategy=1)\n"
      ],
      "execution_count": 34,
      "outputs": []
    },
    {
      "cell_type": "code",
      "metadata": {
        "id": "XgwVRNL9xNyk"
      },
      "source": [
        "from imblearn.pipeline import Pipeline\n",
        "# create pipeline of over/under sampling\n",
        "steps = [('o',oversample_s),('u',undersample_s)]\n",
        "pipeline = Pipeline(steps=steps)\n"
      ],
      "execution_count": 35,
      "outputs": []
    },
    {
      "cell_type": "code",
      "metadata": {
        "colab": {
          "base_uri": "https://localhost:8080/"
        },
        "id": "0y4QuB4oxN3a",
        "outputId": "503068c9-c59e-4c13-90d6-06881b9bc40c"
      },
      "source": [
        "X_over_u, y_over_u = pipeline.fit_resample(X_train,y_train)"
      ],
      "execution_count": 36,
      "outputs": [
        {
          "output_type": "stream",
          "text": [
            "/usr/local/lib/python3.7/dist-packages/sklearn/utils/deprecation.py:87: FutureWarning: Function safe_indexing is deprecated; safe_indexing is deprecated in version 0.22 and will be removed in version 0.24.\n",
            "  warnings.warn(msg, category=FutureWarning)\n",
            "/usr/local/lib/python3.7/dist-packages/sklearn/utils/deprecation.py:87: FutureWarning: Function safe_indexing is deprecated; safe_indexing is deprecated in version 0.22 and will be removed in version 0.24.\n",
            "  warnings.warn(msg, category=FutureWarning)\n"
          ],
          "name": "stderr"
        }
      ]
    },
    {
      "cell_type": "code",
      "metadata": {
        "colab": {
          "base_uri": "https://localhost:8080/"
        },
        "id": "E-bni47R0vUE",
        "outputId": "97987379-e7e1-467d-9d75-be556cc239b4"
      },
      "source": [
        "# Lets refit and revaluate our best performing model (gnb)\n",
        "gnb = GaussianNB()\n",
        "evaluate_ml_model(gnb,'Gnb model',X_over_u,y_over_u)"
      ],
      "execution_count": 37,
      "outputs": [
        {
          "output_type": "stream",
          "text": [
            "-->Gnb model model -- acc: 0.9754223548485632, recall:0.8208955223880597\n",
            "\n"
          ],
          "name": "stdout"
        }
      ]
    },
    {
      "cell_type": "code",
      "metadata": {
        "colab": {
          "base_uri": "https://localhost:8080/"
        },
        "id": "yC-Bqghx1E6b",
        "outputId": "a068e6f5-0c38-4bee-b6ef-a7e7382875ca"
      },
      "source": [
        "# Refit/evaluate dl model\n",
        "model_dl = Create_Basemodel()\n",
        "# Now we can fit and evaluate the model\n",
        "history = model_dl.fit(X_over_u,y_over_u,epochs=16,batch_size=100,validation_data=(X_test,y_test),verbose=1,callbacks=[early_stopping])\n",
        "#Evaluate model \n",
        "Evaluate_DL_Model('SMOTE w/ under DL',model_dl,X_under,y_under)"
      ],
      "execution_count": 39,
      "outputs": [
        {
          "output_type": "stream",
          "text": [
            "Epoch 1/16\n",
            "1190/1190 [==============================] - 6s 4ms/step - loss: 0.2414 - recall: 0.8893 - accuracy: 0.9370 - val_loss: 0.0403 - val_recall: 0.8507 - val_accuracy: 0.9856\n",
            "Epoch 2/16\n",
            "1190/1190 [==============================] - 5s 4ms/step - loss: 0.0315 - recall: 0.9935 - accuracy: 0.9904 - val_loss: 0.0284 - val_recall: 0.8433 - val_accuracy: 0.9905\n",
            "Epoch 3/16\n",
            "1190/1190 [==============================] - 5s 4ms/step - loss: 0.0167 - recall: 0.9994 - accuracy: 0.9962 - val_loss: 0.0199 - val_recall: 0.8358 - val_accuracy: 0.9947\n",
            "Epoch 4/16\n",
            "1190/1190 [==============================] - 5s 4ms/step - loss: 0.0107 - recall: 0.9998 - accuracy: 0.9976 - val_loss: 0.0195 - val_recall: 0.8284 - val_accuracy: 0.9954\n",
            "Epoch 5/16\n",
            "1190/1190 [==============================] - 5s 4ms/step - loss: 0.0079 - recall: 0.9999 - accuracy: 0.9984 - val_loss: 0.0171 - val_recall: 0.8134 - val_accuracy: 0.9966\n",
            "Epoch 6/16\n",
            "1190/1190 [==============================] - 5s 4ms/step - loss: 0.0065 - recall: 0.9999 - accuracy: 0.9987 - val_loss: 0.0165 - val_recall: 0.8060 - val_accuracy: 0.9969\n",
            "Epoch 7/16\n",
            "1190/1190 [==============================] - 5s 4ms/step - loss: 0.0059 - recall: 0.9998 - accuracy: 0.9988 - val_loss: 0.0177 - val_recall: 0.8060 - val_accuracy: 0.9965\n",
            "Epoch 8/16\n",
            "1190/1190 [==============================] - 5s 4ms/step - loss: 0.0054 - recall: 0.9998 - accuracy: 0.9989 - val_loss: 0.0177 - val_recall: 0.8060 - val_accuracy: 0.9973\n",
            "Epoch 9/16\n",
            "1190/1190 [==============================] - 5s 4ms/step - loss: 0.0042 - recall: 0.9997 - accuracy: 0.9991 - val_loss: 0.0192 - val_recall: 0.8134 - val_accuracy: 0.9969\n",
            "Epoch 10/16\n",
            "1190/1190 [==============================] - 5s 4ms/step - loss: 0.0047 - recall: 0.9997 - accuracy: 0.9990 - val_loss: 0.0205 - val_recall: 0.8134 - val_accuracy: 0.9968\n",
            "Epoch 11/16\n",
            "1190/1190 [==============================] - 5s 4ms/step - loss: 0.0037 - recall: 0.9999 - accuracy: 0.9993 - val_loss: 0.0203 - val_recall: 0.8060 - val_accuracy: 0.9970\n",
            "Epoch 12/16\n",
            "1190/1190 [==============================] - 5s 4ms/step - loss: 0.0041 - recall: 0.9999 - accuracy: 0.9992 - val_loss: 0.0224 - val_recall: 0.7985 - val_accuracy: 0.9967\n",
            "Epoch 13/16\n",
            "1190/1190 [==============================] - 5s 4ms/step - loss: 0.0044 - recall: 0.9995 - accuracy: 0.9990 - val_loss: 0.0200 - val_recall: 0.8060 - val_accuracy: 0.9977\n",
            "Epoch 14/16\n",
            "1190/1190 [==============================] - 5s 4ms/step - loss: 0.0033 - recall: 1.0000 - accuracy: 0.9994 - val_loss: 0.0217 - val_recall: 0.8060 - val_accuracy: 0.9974\n",
            "Epoch 15/16\n",
            "1190/1190 [==============================] - 5s 4ms/step - loss: 0.0039 - recall: 0.9998 - accuracy: 0.9993 - val_loss: 0.0222 - val_recall: 0.8060 - val_accuracy: 0.9977\n"
          ],
          "name": "stdout"
        },
        {
          "output_type": "execute_result",
          "data": {
            "text/plain": [
              "('-->SMOTE w/ under DL train -- accuracy: 0.9970501661300659, recall:1.0',\n",
              " '-->SMOTE w/ under DL test -- accuracy: 0.9976738095283508, recall:0.8059701323509216')"
            ]
          },
          "metadata": {
            "tags": []
          },
          "execution_count": 39
        }
      ]
    },
    {
      "cell_type": "code",
      "metadata": {
        "colab": {
          "base_uri": "https://localhost:8080/",
          "height": 173
        },
        "id": "BDygYuWi1r18",
        "outputId": "337d887d-bc28-4a11-f5c2-0f04da60cf1a"
      },
      "source": [
        "# Show best of the DL models\n",
        "models_summary"
      ],
      "execution_count": 40,
      "outputs": [
        {
          "output_type": "execute_result",
          "data": {
            "text/html": [
              "<div>\n",
              "<style scoped>\n",
              "    .dataframe tbody tr th:only-of-type {\n",
              "        vertical-align: middle;\n",
              "    }\n",
              "\n",
              "    .dataframe tbody tr th {\n",
              "        vertical-align: top;\n",
              "    }\n",
              "\n",
              "    .dataframe thead th {\n",
              "        text-align: right;\n",
              "    }\n",
              "</style>\n",
              "<table border=\"1\" class=\"dataframe\">\n",
              "  <thead>\n",
              "    <tr style=\"text-align: right;\">\n",
              "      <th></th>\n",
              "      <th>mdl_name</th>\n",
              "      <th>accuracy</th>\n",
              "      <th>recall</th>\n",
              "    </tr>\n",
              "  </thead>\n",
              "  <tbody>\n",
              "    <tr>\n",
              "      <th>0</th>\n",
              "      <td>DL model</td>\n",
              "      <td>0.999471</td>\n",
              "      <td>0.776119</td>\n",
              "    </tr>\n",
              "    <tr>\n",
              "      <th>1</th>\n",
              "      <td>Random Over DL</td>\n",
              "      <td>0.99805</td>\n",
              "      <td>0.813433</td>\n",
              "    </tr>\n",
              "    <tr>\n",
              "      <th>2</th>\n",
              "      <td>Random Under DL</td>\n",
              "      <td>0.9918</td>\n",
              "      <td>0.850746</td>\n",
              "    </tr>\n",
              "    <tr>\n",
              "      <th>3</th>\n",
              "      <td>SMOTE w/ under DL</td>\n",
              "      <td>0.997674</td>\n",
              "      <td>0.80597</td>\n",
              "    </tr>\n",
              "  </tbody>\n",
              "</table>\n",
              "</div>"
            ],
            "text/plain": [
              "            mdl_name  accuracy    recall\n",
              "0           DL model  0.999471  0.776119\n",
              "1     Random Over DL   0.99805  0.813433\n",
              "2    Random Under DL    0.9918  0.850746\n",
              "3  SMOTE w/ under DL  0.997674   0.80597"
            ]
          },
          "metadata": {
            "tags": []
          },
          "execution_count": 40
        }
      ]
    },
    {
      "cell_type": "markdown",
      "metadata": {
        "id": "KukCc36z01Um"
      },
      "source": [
        "NOTE: After using SMOTE by itself and combining it with undersampling I found it to be a less effective resampling method than just undersampling"
      ]
    },
    {
      "cell_type": "markdown",
      "metadata": {
        "id": "S-E5nu3ZwIde"
      },
      "source": [
        "### Model Tuning\n",
        " -Improve selective models by changing parameters (using TuneSearch)"
      ]
    },
    {
      "cell_type": "code",
      "metadata": {
        "id": "uIMlWsa4tRst"
      },
      "source": [
        "# NOTE: TuneSearch is a faster version of tune-sklearn's Grid/Random Search\n",
        "#!pip install tune-sklearn\n",
        "from tune_sklearn import TuneGridSearchCV"
      ],
      "execution_count": 43,
      "outputs": []
    },
    {
      "cell_type": "code",
      "metadata": {
        "id": "QAajWjSjZ-8l"
      },
      "source": [
        "import numpy as np\n",
        "param_dists = {\n",
        "      'var_smoothing' : np.logspace(0,-9,num=100)\n",
        "}\n",
        "\n",
        "gnb = GaussianNB()\n",
        "\n",
        "rs_gnb = TuneGridSearchCV(\n",
        "    GaussianNB(),\n",
        "    param_dists,\n",
        "    early_stopping=\"MedianStoppingRule\",\n",
        "    max_iters=10,\n",
        ")"
      ],
      "execution_count": 44,
      "outputs": []
    },
    {
      "cell_type": "code",
      "metadata": {
        "colab": {
          "base_uri": "https://localhost:8080/"
        },
        "id": "9pEehdYG3Gr5",
        "outputId": "70df6c4b-d2b6-4f7f-b11f-6b94474624c8"
      },
      "source": [
        "# Lets refit and revaluate our tuned gnb model\n",
        "evaluate_ml_model(rs_gnb,'Tuned Gnb model',X_over_u,y_over_u)"
      ],
      "execution_count": 45,
      "outputs": [
        {
          "output_type": "stream",
          "text": [
            "-->Tuned Gnb model model -- acc: 0.9763269813670434, recall:0.8208955223880597\n",
            "\n"
          ],
          "name": "stdout"
        }
      ]
    },
    {
      "cell_type": "markdown",
      "metadata": {
        "id": "IpD8pJWECHWu"
      },
      "source": [
        "NOTE: In the future it may be worthwhile to test and tune another more traditional ML model that has more tunable parameters than this one. <br>\n",
        "Though the method for tuning said future model would be similar."
      ]
    },
    {
      "cell_type": "code",
      "metadata": {
        "id": "yjFiC89Ku7k_",
        "colab": {
          "base_uri": "https://localhost:8080/"
        },
        "outputId": "1c60fe38-58fe-4180-8d64-e5a1d7bc816e"
      },
      "source": [
        "# Now we tune the DL model\n",
        "#!pip install keras-tuner\n",
        "import kerastuner as kt\n",
        "print(kt.__version__)"
      ],
      "execution_count": 152,
      "outputs": [
        {
          "output_type": "stream",
          "text": [
            "1.0.2\n"
          ],
          "name": "stdout"
        }
      ]
    },
    {
      "cell_type": "code",
      "metadata": {
        "id": "SjZqxS47JzjY"
      },
      "source": [
        "# Tune with keras Tuner\n",
        "from kerastuner import HyperModel\n",
        "class ClassificationHyperModel (HyperModel):\n",
        "  def __init__(self, input_shape):\n",
        "    self.input_shape = input_shape\n",
        "\n",
        "  def build (self, hp) :\n",
        "    model = Sequential()\n",
        "    model.add(\n",
        "        layers.Dense(\n",
        "            units=hp.Int('units',16,64,4, default=16),\n",
        "            activation=hp.Choice(\n",
        "                'dense_activation',\n",
        "                values=['relu','tanh','sigmoid'],\n",
        "                default='relu'),\n",
        "            input_shape=input_shape\n",
        "            )\n",
        "        )\n",
        "    model.add(\n",
        "        layers.Dense(\n",
        "            units=hp.Int('units',16,64,4, default=16),\n",
        "            activation=hp.Choice(\n",
        "                'dense_activation',\n",
        "                values=['relu','tanh','sigmoid'],\n",
        "                default='relu')\n",
        "            )\n",
        "        )\n",
        "    model.add(layers.Dense(1,activation='sigmoid'))\n",
        "    hp_learning_rate = hp.Choice('learning_rate',values=[1e-2,1e-3,1e-4])\n",
        "    model.compile(loss='binary_crossentropy', \n",
        "                  optimizer=tf.keras.optimizers.Adam(learning_rate=hp_learning_rate),\n",
        "                  metrics=['Recall','accuracy'])\n",
        "\n",
        "    return model"
      ],
      "execution_count": 153,
      "outputs": []
    },
    {
      "cell_type": "code",
      "metadata": {
        "id": "ra59j5JiVjc3"
      },
      "source": [
        "# Instantiate Hypermodel\n",
        "input_shape = (X_under.shape[1],)\n",
        "hypermodel = ClassificationHyperModel(input_shape)"
      ],
      "execution_count": 154,
      "outputs": []
    },
    {
      "cell_type": "code",
      "metadata": {
        "colab": {
          "base_uri": "https://localhost:8080/"
        },
        "id": "K_WADv99XXky",
        "outputId": "f5ecef68-4944-4126-a0fd-f366612a2af0"
      },
      "source": [
        "# Instantiate our random search\n",
        "tuner_rs = kt.RandomSearch(\n",
        "            hypermodel,\n",
        "            objective='val_loss',\n",
        "            seed=seed,\n",
        "            max_trials=10,\n",
        "            executions_per_trial=2)"
      ],
      "execution_count": 155,
      "outputs": [
        {
          "output_type": "stream",
          "text": [
            "INFO:tensorflow:Reloading Oracle from existing project ./untitled_project/oracle.json\n",
            "INFO:tensorflow:Reloading Tuner from ./untitled_project/tuner0.json\n"
          ],
          "name": "stdout"
        }
      ]
    },
    {
      "cell_type": "code",
      "metadata": {
        "id": "RJMU5xonhM9b",
        "colab": {
          "base_uri": "https://localhost:8080/"
        },
        "outputId": "44069a44-cfe5-4357-c4d1-bb9b05c9528b"
      },
      "source": [
        "# Run the random search and get the best parameters\n",
        "tuner_rs.search(X_under,y_under,epochs=10,validation_split=0.2,verbose=0)\n",
        "\n",
        "best_hps = tuner_rs.get_best_hyperparameters(num_trials=1)[0]"
      ],
      "execution_count": 156,
      "outputs": [
        {
          "output_type": "stream",
          "text": [
            "INFO:tensorflow:Oracle triggered exit\n"
          ],
          "name": "stdout"
        }
      ]
    },
    {
      "cell_type": "code",
      "metadata": {
        "id": "j3IB8Fo5w8hg",
        "colab": {
          "base_uri": "https://localhost:8080/"
        },
        "outputId": "f1eac19d-ca64-4dd5-e82f-e0ad331fe186"
      },
      "source": [
        "# Build and train tuned model and find optimal number of epochs\n",
        "tuned_model = tuner_rs.hypermodel.build(best_hps)\n",
        "history = tuned_model.fit(X_under,y_under,epochs=50,validation_split=0.2)\n",
        "\n",
        "val_rec_per_epoch = history.history['val_recall']\n",
        "best_epoch = val_rec_per_epoch.index(max(val_rec_per_epoch)) +1\n",
        "print('Best epoch: %d' % (best_epoch,))"
      ],
      "execution_count": 157,
      "outputs": [
        {
          "output_type": "stream",
          "text": [
            "Epoch 1/50\n",
            "26/26 [==============================] - 1s 13ms/step - loss: 0.7099 - recall: 0.6414 - accuracy: 0.5270 - val_loss: 0.2796 - val_recall: 0.8775 - val_accuracy: 0.8775\n",
            "Epoch 2/50\n",
            "26/26 [==============================] - 0s 5ms/step - loss: 0.5200 - recall: 0.8415 - accuracy: 0.7618 - val_loss: 0.2138 - val_recall: 0.8971 - val_accuracy: 0.8971\n",
            "Epoch 3/50\n",
            "26/26 [==============================] - 0s 5ms/step - loss: 0.3915 - recall: 0.8495 - accuracy: 0.8876 - val_loss: 0.1898 - val_recall: 0.8922 - val_accuracy: 0.8922\n",
            "Epoch 4/50\n",
            "26/26 [==============================] - 0s 5ms/step - loss: 0.2799 - recall: 0.8670 - accuracy: 0.9513 - val_loss: 0.1831 - val_recall: 0.9020 - val_accuracy: 0.9020\n",
            "Epoch 5/50\n",
            "26/26 [==============================] - 0s 5ms/step - loss: 0.1859 - recall: 0.9136 - accuracy: 0.9755 - val_loss: 0.1986 - val_recall: 0.9069 - val_accuracy: 0.9069\n",
            "Epoch 6/50\n",
            "26/26 [==============================] - 0s 5ms/step - loss: 0.1417 - recall: 0.8595 - accuracy: 0.9758 - val_loss: 0.2160 - val_recall: 0.9069 - val_accuracy: 0.9069\n",
            "Epoch 7/50\n",
            "26/26 [==============================] - 0s 5ms/step - loss: 0.1070 - recall: 0.9209 - accuracy: 0.9815 - val_loss: 0.2333 - val_recall: 0.9069 - val_accuracy: 0.9069\n",
            "Epoch 8/50\n",
            "26/26 [==============================] - 0s 5ms/step - loss: 0.1166 - recall: 0.9165 - accuracy: 0.9803 - val_loss: 0.2487 - val_recall: 0.9020 - val_accuracy: 0.9020\n",
            "Epoch 9/50\n",
            "26/26 [==============================] - 0s 5ms/step - loss: 0.0870 - recall: 0.9100 - accuracy: 0.9820 - val_loss: 0.2515 - val_recall: 0.9118 - val_accuracy: 0.9118\n",
            "Epoch 10/50\n",
            "26/26 [==============================] - 0s 5ms/step - loss: 0.0714 - recall: 0.9170 - accuracy: 0.9835 - val_loss: 0.2663 - val_recall: 0.9118 - val_accuracy: 0.9118\n",
            "Epoch 11/50\n",
            "26/26 [==============================] - 0s 5ms/step - loss: 0.0634 - recall: 0.9191 - accuracy: 0.9857 - val_loss: 0.2740 - val_recall: 0.9069 - val_accuracy: 0.9069\n",
            "Epoch 12/50\n",
            "26/26 [==============================] - 0s 5ms/step - loss: 0.0688 - recall: 0.9307 - accuracy: 0.9827 - val_loss: 0.2723 - val_recall: 0.9069 - val_accuracy: 0.9069\n",
            "Epoch 13/50\n",
            "26/26 [==============================] - 0s 5ms/step - loss: 0.0556 - recall: 0.9420 - accuracy: 0.9885 - val_loss: 0.2878 - val_recall: 0.9069 - val_accuracy: 0.9069\n",
            "Epoch 14/50\n",
            "26/26 [==============================] - 0s 5ms/step - loss: 0.0433 - recall: 0.9608 - accuracy: 0.9927 - val_loss: 0.2892 - val_recall: 0.9118 - val_accuracy: 0.9118\n",
            "Epoch 15/50\n",
            "26/26 [==============================] - 0s 5ms/step - loss: 0.0737 - recall: 0.9044 - accuracy: 0.9792 - val_loss: 0.2902 - val_recall: 0.9118 - val_accuracy: 0.9118\n",
            "Epoch 16/50\n",
            "26/26 [==============================] - 0s 5ms/step - loss: 0.0564 - recall: 0.9374 - accuracy: 0.9833 - val_loss: 0.2992 - val_recall: 0.9069 - val_accuracy: 0.9069\n",
            "Epoch 17/50\n",
            "26/26 [==============================] - 0s 5ms/step - loss: 0.0622 - recall: 0.9031 - accuracy: 0.9800 - val_loss: 0.3011 - val_recall: 0.9118 - val_accuracy: 0.9118\n",
            "Epoch 18/50\n",
            "26/26 [==============================] - 0s 4ms/step - loss: 0.0402 - recall: 0.9576 - accuracy: 0.9910 - val_loss: 0.3066 - val_recall: 0.9069 - val_accuracy: 0.9069\n",
            "Epoch 19/50\n",
            "26/26 [==============================] - 0s 5ms/step - loss: 0.0569 - recall: 0.9285 - accuracy: 0.9804 - val_loss: 0.3097 - val_recall: 0.9069 - val_accuracy: 0.9069\n",
            "Epoch 20/50\n",
            "26/26 [==============================] - 0s 5ms/step - loss: 0.0434 - recall: 0.9451 - accuracy: 0.9860 - val_loss: 0.3060 - val_recall: 0.9069 - val_accuracy: 0.9069\n",
            "Epoch 21/50\n",
            "26/26 [==============================] - 0s 5ms/step - loss: 0.0497 - recall: 0.9608 - accuracy: 0.9906 - val_loss: 0.3019 - val_recall: 0.9167 - val_accuracy: 0.9167\n",
            "Epoch 22/50\n",
            "26/26 [==============================] - 0s 5ms/step - loss: 0.0401 - recall: 0.9447 - accuracy: 0.9895 - val_loss: 0.3111 - val_recall: 0.9069 - val_accuracy: 0.9069\n",
            "Epoch 23/50\n",
            "26/26 [==============================] - 0s 5ms/step - loss: 0.0440 - recall: 0.9268 - accuracy: 0.9833 - val_loss: 0.3217 - val_recall: 0.9167 - val_accuracy: 0.9167\n",
            "Epoch 24/50\n",
            "26/26 [==============================] - 0s 5ms/step - loss: 0.0309 - recall: 0.9670 - accuracy: 0.9932 - val_loss: 0.3211 - val_recall: 0.9118 - val_accuracy: 0.9118\n",
            "Epoch 25/50\n",
            "26/26 [==============================] - 0s 5ms/step - loss: 0.0553 - recall: 0.9201 - accuracy: 0.9823 - val_loss: 0.3171 - val_recall: 0.9167 - val_accuracy: 0.9167\n",
            "Epoch 26/50\n",
            "26/26 [==============================] - 0s 5ms/step - loss: 0.0358 - recall: 0.9531 - accuracy: 0.9904 - val_loss: 0.3232 - val_recall: 0.9118 - val_accuracy: 0.9118\n",
            "Epoch 27/50\n",
            "26/26 [==============================] - 0s 5ms/step - loss: 0.0429 - recall: 0.9217 - accuracy: 0.9843 - val_loss: 0.3407 - val_recall: 0.9020 - val_accuracy: 0.9020\n",
            "Epoch 28/50\n",
            "26/26 [==============================] - 0s 6ms/step - loss: 0.0312 - recall: 0.9402 - accuracy: 0.9903 - val_loss: 0.3270 - val_recall: 0.9118 - val_accuracy: 0.9118\n",
            "Epoch 29/50\n",
            "26/26 [==============================] - 0s 5ms/step - loss: 0.0291 - recall: 0.9473 - accuracy: 0.9900 - val_loss: 0.3422 - val_recall: 0.9069 - val_accuracy: 0.9069\n",
            "Epoch 30/50\n",
            "26/26 [==============================] - 0s 5ms/step - loss: 0.0347 - recall: 0.9480 - accuracy: 0.9902 - val_loss: 0.3391 - val_recall: 0.9118 - val_accuracy: 0.9118\n",
            "Epoch 31/50\n",
            "26/26 [==============================] - 0s 5ms/step - loss: 0.0321 - recall: 0.9402 - accuracy: 0.9886 - val_loss: 0.3469 - val_recall: 0.9118 - val_accuracy: 0.9118\n",
            "Epoch 32/50\n",
            "26/26 [==============================] - 0s 5ms/step - loss: 0.0450 - recall: 0.9788 - accuracy: 0.9920 - val_loss: 0.3517 - val_recall: 0.9118 - val_accuracy: 0.9118\n",
            "Epoch 33/50\n",
            "26/26 [==============================] - 0s 5ms/step - loss: 0.0281 - recall: 0.9492 - accuracy: 0.9898 - val_loss: 0.3588 - val_recall: 0.9069 - val_accuracy: 0.9069\n",
            "Epoch 34/50\n",
            "26/26 [==============================] - 0s 5ms/step - loss: 0.0376 - recall: 0.9261 - accuracy: 0.9839 - val_loss: 0.3658 - val_recall: 0.9020 - val_accuracy: 0.9020\n",
            "Epoch 35/50\n",
            "26/26 [==============================] - 0s 5ms/step - loss: 0.0263 - recall: 0.9414 - accuracy: 0.9899 - val_loss: 0.3629 - val_recall: 0.9118 - val_accuracy: 0.9118\n",
            "Epoch 36/50\n",
            "26/26 [==============================] - 0s 5ms/step - loss: 0.0271 - recall: 0.9608 - accuracy: 0.9926 - val_loss: 0.3718 - val_recall: 0.9069 - val_accuracy: 0.9069\n",
            "Epoch 37/50\n",
            "26/26 [==============================] - 0s 5ms/step - loss: 0.0176 - recall: 0.9775 - accuracy: 0.9962 - val_loss: 0.3761 - val_recall: 0.9069 - val_accuracy: 0.9069\n",
            "Epoch 38/50\n",
            "26/26 [==============================] - 0s 5ms/step - loss: 0.0249 - recall: 0.9796 - accuracy: 0.9953 - val_loss: 0.3827 - val_recall: 0.9069 - val_accuracy: 0.9069\n",
            "Epoch 39/50\n",
            "26/26 [==============================] - 0s 5ms/step - loss: 0.0234 - recall: 0.9791 - accuracy: 0.9953 - val_loss: 0.3863 - val_recall: 0.9069 - val_accuracy: 0.9069\n",
            "Epoch 40/50\n",
            "26/26 [==============================] - 0s 5ms/step - loss: 0.0263 - recall: 0.9266 - accuracy: 0.9856 - val_loss: 0.3926 - val_recall: 0.9069 - val_accuracy: 0.9069\n",
            "Epoch 41/50\n",
            "26/26 [==============================] - 0s 5ms/step - loss: 0.0174 - recall: 0.9849 - accuracy: 0.9969 - val_loss: 0.3869 - val_recall: 0.9069 - val_accuracy: 0.9069\n",
            "Epoch 42/50\n",
            "26/26 [==============================] - 0s 5ms/step - loss: 0.0164 - recall: 1.0000 - accuracy: 0.9993 - val_loss: 0.4026 - val_recall: 0.9069 - val_accuracy: 0.9069\n",
            "Epoch 43/50\n",
            "26/26 [==============================] - 0s 5ms/step - loss: 0.0143 - recall: 1.0000 - accuracy: 0.9991 - val_loss: 0.4095 - val_recall: 0.9069 - val_accuracy: 0.9069\n",
            "Epoch 44/50\n",
            "26/26 [==============================] - 0s 5ms/step - loss: 0.0178 - recall: 1.0000 - accuracy: 0.9991 - val_loss: 0.4070 - val_recall: 0.9069 - val_accuracy: 0.9069\n",
            "Epoch 45/50\n",
            "26/26 [==============================] - 0s 5ms/step - loss: 0.0132 - recall: 1.0000 - accuracy: 0.9993 - val_loss: 0.4186 - val_recall: 0.9069 - val_accuracy: 0.9069\n",
            "Epoch 46/50\n",
            "26/26 [==============================] - 0s 5ms/step - loss: 0.0179 - recall: 1.0000 - accuracy: 0.9983 - val_loss: 0.4211 - val_recall: 0.9069 - val_accuracy: 0.9069\n",
            "Epoch 47/50\n",
            "26/26 [==============================] - 0s 5ms/step - loss: 0.0107 - recall: 0.9982 - accuracy: 0.9994 - val_loss: 0.4321 - val_recall: 0.9069 - val_accuracy: 0.9069\n",
            "Epoch 48/50\n",
            "26/26 [==============================] - 0s 5ms/step - loss: 0.0125 - recall: 0.9951 - accuracy: 0.9983 - val_loss: 0.4182 - val_recall: 0.9069 - val_accuracy: 0.9069\n",
            "Epoch 49/50\n",
            "26/26 [==============================] - 0s 5ms/step - loss: 0.0177 - recall: 1.0000 - accuracy: 0.9976 - val_loss: 0.4360 - val_recall: 0.9069 - val_accuracy: 0.9069\n",
            "Epoch 50/50\n",
            "26/26 [==============================] - 0s 5ms/step - loss: 0.0273 - recall: 1.0000 - accuracy: 0.9955 - val_loss: 0.4424 - val_recall: 0.9118 - val_accuracy: 0.9118\n",
            "Best epoch: 21\n"
          ],
          "name": "stdout"
        }
      ]
    },
    {
      "cell_type": "code",
      "metadata": {
        "colab": {
          "base_uri": "https://localhost:8080/"
        },
        "id": "32Vnd_inDgDU",
        "outputId": "4f213683-3d3c-4348-c262-0d4861f61afe"
      },
      "source": [
        "# Reinstantiate and fit model one more time\n",
        "hypermodel = tuner_rs.hypermodel.build(best_hps)\n",
        "hypermodel.fit(X_under,y_under,epochs=best_epoch,validation_split=0.2)"
      ],
      "execution_count": 158,
      "outputs": [
        {
          "output_type": "stream",
          "text": [
            "Epoch 1/21\n",
            "26/26 [==============================] - 1s 13ms/step - loss: 0.6381 - recall: 0.8622 - accuracy: 0.6124 - val_loss: 0.2357 - val_recall: 0.8725 - val_accuracy: 0.8725\n",
            "Epoch 2/21\n",
            "26/26 [==============================] - 0s 5ms/step - loss: 0.4686 - recall: 0.8531 - accuracy: 0.8216 - val_loss: 0.1905 - val_recall: 0.9069 - val_accuracy: 0.9069\n",
            "Epoch 3/21\n",
            "26/26 [==============================] - 0s 5ms/step - loss: 0.3535 - recall: 0.8311 - accuracy: 0.9139 - val_loss: 0.1889 - val_recall: 0.8971 - val_accuracy: 0.8971\n",
            "Epoch 4/21\n",
            "26/26 [==============================] - 0s 5ms/step - loss: 0.2534 - recall: 0.8495 - accuracy: 0.9590 - val_loss: 0.1950 - val_recall: 0.8971 - val_accuracy: 0.8971\n",
            "Epoch 5/21\n",
            "26/26 [==============================] - 0s 5ms/step - loss: 0.1722 - recall: 0.8958 - accuracy: 0.9749 - val_loss: 0.2167 - val_recall: 0.8873 - val_accuracy: 0.8873\n",
            "Epoch 6/21\n",
            "26/26 [==============================] - 0s 5ms/step - loss: 0.1383 - recall: 0.8492 - accuracy: 0.9728 - val_loss: 0.2341 - val_recall: 0.8873 - val_accuracy: 0.8873\n",
            "Epoch 7/21\n",
            "26/26 [==============================] - 0s 5ms/step - loss: 0.1082 - recall: 0.8901 - accuracy: 0.9771 - val_loss: 0.2461 - val_recall: 0.8922 - val_accuracy: 0.8922\n",
            "Epoch 8/21\n",
            "26/26 [==============================] - 0s 5ms/step - loss: 0.1189 - recall: 0.8846 - accuracy: 0.9732 - val_loss: 0.2579 - val_recall: 0.9020 - val_accuracy: 0.9020\n",
            "Epoch 9/21\n",
            "26/26 [==============================] - 0s 5ms/step - loss: 0.0927 - recall: 0.8752 - accuracy: 0.9752 - val_loss: 0.2546 - val_recall: 0.9118 - val_accuracy: 0.9118\n",
            "Epoch 10/21\n",
            "26/26 [==============================] - 0s 5ms/step - loss: 0.0777 - recall: 0.8998 - accuracy: 0.9795 - val_loss: 0.2693 - val_recall: 0.9118 - val_accuracy: 0.9118\n",
            "Epoch 11/21\n",
            "26/26 [==============================] - 0s 5ms/step - loss: 0.0726 - recall: 0.8915 - accuracy: 0.9787 - val_loss: 0.2796 - val_recall: 0.9118 - val_accuracy: 0.9118\n",
            "Epoch 12/21\n",
            "26/26 [==============================] - 0s 5ms/step - loss: 0.0764 - recall: 0.9272 - accuracy: 0.9834 - val_loss: 0.2742 - val_recall: 0.9118 - val_accuracy: 0.9118\n",
            "Epoch 13/21\n",
            "26/26 [==============================] - 0s 5ms/step - loss: 0.0607 - recall: 0.9349 - accuracy: 0.9862 - val_loss: 0.2922 - val_recall: 0.9118 - val_accuracy: 0.9118\n",
            "Epoch 14/21\n",
            "26/26 [==============================] - 0s 5ms/step - loss: 0.0511 - recall: 0.9619 - accuracy: 0.9886 - val_loss: 0.2875 - val_recall: 0.9118 - val_accuracy: 0.9118\n",
            "Epoch 15/21\n",
            "26/26 [==============================] - 0s 5ms/step - loss: 0.0775 - recall: 0.8845 - accuracy: 0.9763 - val_loss: 0.2933 - val_recall: 0.9118 - val_accuracy: 0.9118\n",
            "Epoch 16/21\n",
            "26/26 [==============================] - 0s 5ms/step - loss: 0.0639 - recall: 0.9322 - accuracy: 0.9822 - val_loss: 0.2992 - val_recall: 0.9069 - val_accuracy: 0.9069\n",
            "Epoch 17/21\n",
            "26/26 [==============================] - 0s 5ms/step - loss: 0.0742 - recall: 0.8906 - accuracy: 0.9778 - val_loss: 0.3012 - val_recall: 0.9069 - val_accuracy: 0.9069\n",
            "Epoch 18/21\n",
            "26/26 [==============================] - 0s 5ms/step - loss: 0.0469 - recall: 0.9449 - accuracy: 0.9888 - val_loss: 0.3065 - val_recall: 0.9118 - val_accuracy: 0.9118\n",
            "Epoch 19/21\n",
            "26/26 [==============================] - 0s 4ms/step - loss: 0.0628 - recall: 0.9193 - accuracy: 0.9785 - val_loss: 0.3087 - val_recall: 0.9069 - val_accuracy: 0.9069\n",
            "Epoch 20/21\n",
            "26/26 [==============================] - 0s 5ms/step - loss: 0.0554 - recall: 0.9451 - accuracy: 0.9860 - val_loss: 0.3030 - val_recall: 0.9069 - val_accuracy: 0.9069\n",
            "Epoch 21/21\n",
            "26/26 [==============================] - 0s 5ms/step - loss: 0.0531 - recall: 0.9210 - accuracy: 0.9816 - val_loss: 0.3028 - val_recall: 0.9069 - val_accuracy: 0.9069\n"
          ],
          "name": "stdout"
        },
        {
          "output_type": "execute_result",
          "data": {
            "text/plain": [
              "<tensorflow.python.keras.callbacks.History at 0x7fee883ed790>"
            ]
          },
          "metadata": {
            "tags": []
          },
          "execution_count": 158
        }
      ]
    },
    {
      "cell_type": "code",
      "metadata": {
        "colab": {
          "base_uri": "https://localhost:8080/"
        },
        "id": "fc9P0WYhEs7E",
        "outputId": "178c6bcf-41ca-4ff9-d6fd-4f2ce7031fb9"
      },
      "source": [
        "# Finally build model\n",
        "tune_eval = hypermodel.evaluate(X_test,y_test)"
      ],
      "execution_count": 167,
      "outputs": [
        {
          "output_type": "stream",
          "text": [
            "2660/2660 [==============================] - 6s 2ms/step - loss: 0.0613 - recall: 0.8806 - accuracy: 0.9775\n"
          ],
          "name": "stdout"
        }
      ]
    },
    {
      "cell_type": "code",
      "metadata": {
        "id": "BUq5dNDUMzHN"
      },
      "source": [
        "# Add to our summary dataframe\n",
        "models_summary.loc[len(models_summary),:] = ['Tuned DL model',tune_eval[2],tune_eval[1]]"
      ],
      "execution_count": 168,
      "outputs": []
    },
    {
      "cell_type": "code",
      "metadata": {
        "id": "xcLyiNMH5Yl3"
      },
      "source": [
        "# Create a confusion matrix\n",
        "y_predict = (hypermodel.predict(X_test)>.5)\n",
        "cf_m = metrics.confusion_matrix(y_test,y_predict)"
      ],
      "execution_count": 188,
      "outputs": []
    },
    {
      "cell_type": "markdown",
      "metadata": {
        "id": "Yxbe7cc9RDeS"
      },
      "source": [
        "### Conclusion\n",
        "\n",
        "After tuning the DL model on undersampled data we were able to achieve a recall value of 0.88.<br> Which is by far the best value we were able to come up with. What this essentially means is that of people attempting to <br> commit credit card fraud we could detect about 88% of them. It is of no surprise that being able to detect 88% of fraud could help a bank and their customers avoid being hurt and all of this is achievable by merely deploying our tuned model.<br>\n",
        "\n"
      ]
    },
    {
      "cell_type": "markdown",
      "metadata": {
        "id": "H9RXQAVvWGeW"
      },
      "source": [
        "NOTE: There is still more testing that could and should be done to validate our model futher."
      ]
    },
    {
      "cell_type": "code",
      "metadata": {
        "colab": {
          "base_uri": "https://localhost:8080/",
          "height": 238
        },
        "id": "DYWqZBrfM8I_",
        "outputId": "6797999e-9d7b-4864-e458-d070fdbc0a39"
      },
      "source": [
        "# Summary metrics of notable models in notebook\n",
        "display(models_summary)\n",
        "gnb = GaussianNB()\n",
        "evaluate_ml_model(gnb,'Gnb',X_over_u,y_over_u)"
      ],
      "execution_count": 184,
      "outputs": [
        {
          "output_type": "display_data",
          "data": {
            "text/html": [
              "<div>\n",
              "<style scoped>\n",
              "    .dataframe tbody tr th:only-of-type {\n",
              "        vertical-align: middle;\n",
              "    }\n",
              "\n",
              "    .dataframe tbody tr th {\n",
              "        vertical-align: top;\n",
              "    }\n",
              "\n",
              "    .dataframe thead th {\n",
              "        text-align: right;\n",
              "    }\n",
              "</style>\n",
              "<table border=\"1\" class=\"dataframe\">\n",
              "  <thead>\n",
              "    <tr style=\"text-align: right;\">\n",
              "      <th></th>\n",
              "      <th>mdl_name</th>\n",
              "      <th>accuracy</th>\n",
              "      <th>recall</th>\n",
              "    </tr>\n",
              "  </thead>\n",
              "  <tbody>\n",
              "    <tr>\n",
              "      <th>0</th>\n",
              "      <td>DL model</td>\n",
              "      <td>0.999471</td>\n",
              "      <td>0.776119</td>\n",
              "    </tr>\n",
              "    <tr>\n",
              "      <th>1</th>\n",
              "      <td>Random Over DL</td>\n",
              "      <td>0.99805</td>\n",
              "      <td>0.813433</td>\n",
              "    </tr>\n",
              "    <tr>\n",
              "      <th>2</th>\n",
              "      <td>Random Under DL</td>\n",
              "      <td>0.9918</td>\n",
              "      <td>0.850746</td>\n",
              "    </tr>\n",
              "    <tr>\n",
              "      <th>3</th>\n",
              "      <td>SMOTE w/ under DL</td>\n",
              "      <td>0.997674</td>\n",
              "      <td>0.80597</td>\n",
              "    </tr>\n",
              "    <tr>\n",
              "      <th>4</th>\n",
              "      <td>Tuned DL model</td>\n",
              "      <td>0.977525</td>\n",
              "      <td>0.880597</td>\n",
              "    </tr>\n",
              "  </tbody>\n",
              "</table>\n",
              "</div>"
            ],
            "text/plain": [
              "            mdl_name  accuracy    recall\n",
              "0           DL model  0.999471  0.776119\n",
              "1     Random Over DL   0.99805  0.813433\n",
              "2    Random Under DL    0.9918  0.850746\n",
              "3  SMOTE w/ under DL  0.997674   0.80597\n",
              "4     Tuned DL model  0.977525  0.880597"
            ]
          },
          "metadata": {
            "tags": []
          }
        },
        {
          "output_type": "stream",
          "text": [
            "-->Gnb model -- acc: 0.9754223548485632, recall:0.8208955223880597\n",
            "\n"
          ],
          "name": "stdout"
        }
      ]
    },
    {
      "cell_type": "code",
      "metadata": {
        "colab": {
          "base_uri": "https://localhost:8080/",
          "height": 282
        },
        "id": "5m7v73Rn3U_f",
        "outputId": "fdcbd6b9-7ddd-49fc-a840-7884e6798b33"
      },
      "source": [
        "# Shows confusion matrix of the final tuned model\n",
        "sns.heatmap(cf_m,annot=True,\n",
        "            fmt='6g', \n",
        "            xticklabels=['Predicted 0','Predicted 1'],yticklabels=['True 0','True 1'])"
      ],
      "execution_count": 190,
      "outputs": [
        {
          "output_type": "execute_result",
          "data": {
            "text/plain": [
              "<matplotlib.axes._subplots.AxesSubplot at 0x7fee87f2f4d0>"
            ]
          },
          "metadata": {
            "tags": []
          },
          "execution_count": 190
        },
        {
          "output_type": "display_data",
          "data": {
            "image/png": "[encoded data removed]",
            "text/plain": [
              "<Figure size 432x288 with 2 Axes>"
            ]
          },
          "metadata": {
            "tags": [],
            "needs_background": "light"
          }
        }
      ]
    },
    {
      "cell_type": "code",
      "metadata": {
        "id": "SdR6Oxb7-XOx"
      },
      "source": [
        ""
      ],
      "execution_count": null,
      "outputs": []
    }
  ]
}